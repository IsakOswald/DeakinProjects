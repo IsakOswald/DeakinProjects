{
 "cells": [
  {
   "cell_type": "markdown",
   "id": "66f183bd-af75-4f95-b2dc-b9106bafebeb",
   "metadata": {
    "tags": []
   },
   "source": [
    "# **Task D1**\n",
    "## Analyzing YouTube Video Data from News Publishers\n",
    "\n",
    "##### This task focuses on analyzing YouTube videos about a news topic (e.g., Covid-19) published by at least 4 English news publishers (e.g., BBC, Fox News, ...) from a start date to an end date. You will need to specify the news topic and the list of keywords to search for the videos about that topic on YouTube. Also, you will need to extract the channel IDs of the news publishers using the function get_channel_info() given to you in the attached \"collect.ipynb\" file. All settings need to be specified in Section B (Settings) of \"collect.ipynb\" and also copied into Section B (Settings) of this jupyter notebook (D1.ipynb). Please note the terms \"News Publisher\" and \"Channel\" have been used interchangeably in this task (each news publisher has a channel - if a news publisher has more than one channels on YouTube, pick any and state that in your TaskCompletionReport). The following instructions convey important information about the task. Please **read them carefully** and complete the task. If you need any clarification please    \n",
    "<img src=\"youtube.png\" alt=\"SIT112 Avocado!\" width=\"1800\" height=\"200\">"
   ]
  },
  {
   "cell_type": "markdown",
   "id": "59f70e1b-9e2c-4d8a-a94f-343d7ffe085c",
   "metadata": {
    "tags": []
   },
   "source": [
    "### A. Instructions\n",
    "#### Attachments\n",
    "* directions.pdf\n",
    "* collect.ipynb\n",
    "* credentials-sample.ini\n",
    "* video-presentation-guideline.pdf\n",
    "\n",
    "#### Get Started \n",
    "1. Rename the \"credentials-sample.ini\" file to \"credentials.ini\" and follow the instructions. \n",
    "2. Creat your YouTube API key and assign it to developer_key in the credentials.ini file. You will need the YouTube API key to get access to the YouTube API (collect the data). See the following video: https://youtu.be/N18czV5tj5o (the video is not up to date; the instrucitons might be sighly different. You can view the following link for more details: https://developers.google.com/youtube/v3/getting-started). Please note Projects that enable the YouTube Data API have a default quota allocation of 10,000 units per day; to make an efficient use of your quota, please avoid multiple excecutions of the \"collect.ipynb\" file: https://developers.google.com/youtube/v3/guides/quota_and_compliance_audits. \n",
    "3. To work with the YouTube API (send queries), you need to install Google API Python Client using: \"conda install google-api-python-client\" \n",
    "#### Specify the news topic and news publishers (channels)\n",
    "4. Choose a news topic (e.g., Covid-19) and a list of keywords to be used for finding videos about that topic. You can extract the keywords by looking at some sample video titles. \n",
    "5. Choose at least 4 popular English news publishers (e.g., BBC, Fox News).\n",
    "6. Extract, manually, the video IDs of sample videos from different  news publishers (channels). You can do so by clicking on the share button for each video. \n",
    "7. Extract the Channel IDs of the videos using the get_channel_info() function in collect.ipynb \n",
    "#### Collect the Videos and Comments using \"collect.ipynb\" \n",
    "8. Specify the Channel IDs and names in the Settings section of the attached \"collect.ipynb\" file (CHANNELS = {...})\n",
    "9. Specify the list keywords in the Settings section of the attached collect.ipynb file (KEYWORDS = [...])\n",
    "10. Specify the START_DATE and END_DATE in the Settings section of the attached collect.ipynb file\n",
    "11. Specify the MAX_VIDEOS such that you can extract **at least 20 videos per news publisher (channel)**. Make sure for your specified topic, **at least 300 comments per news publisher (channel)** can be collected. Please note some publishers might have disabled comments.\n",
    "12. Please **do not make any changes to the \"collect.ipynb\" file**\n",
    "13. Execute the collect.ipynb file to collect the videos (will be stored in videos.csv) and the comments on those videos (will be stored in comments.csv).\n",
    "#### Complete the Task\n",
    "14. <font color='red'> Choose only 2 quesitons from Section E1 and only 1 quesiton from Section E2 </font> and answer them based on the hints. Please note, for each question, you must **briefly discuss your observations** based on the results.\n",
    "15. Please note **there is no unique solution** for most questions; if you need to make any assumptions, **state your assumptions** in the comments and in your TaskCompletionReport and answer the question accordingly. Please also note, **if something has not been clearly stated in a question (e.g., the type of visualization, etc) it means you are allowed to make your own choice**. \n",
    "16. **Read the attached \"video-presentation-guideline.pdf\"** carefully and record a video clip (based on video-presentation-guideline.pdf) that presents your completed task. Upload the video on a video repository such as YouTube (or any other preferred repository) and provide the link in the TaskCompletionReport. \n",
    "17. Complete the TaskCompletionReport form.\n",
    "\n",
    "#### Submit the Task\n",
    "18. Please make sure you have copied the settings from collect.ipynb into your solution file (D1.ipynb), under section B (settings).  \n",
    "19. Please make sure you have executed and saved all the cells in your jupyter notebook without any error; otherwise, your submission may not be flagged as complete. \n",
    "20. Please make sure you have included the link to the video recording of your presentation in your TaskCompletionReport. \n",
    "21. Submit (1) the TaskCompletionReport as a \"PDF\" file and (2) your solution file (D1.ipynb) as an \"ipynb\" file (do not zip/combine them). Please do not include \"collect.ipynb\" in your submission. \n",
    "\n",
    "Good luck :)"
   ]
  },
  {
   "cell_type": "markdown",
   "id": "d64fbdfe-6943-4132-9bdd-5c9767134c9e",
   "metadata": {},
   "source": [
    "### B. Settings\n",
    "Copy your settings from Section B of the \"collect.ipynb\" file below. "
   ]
  },
  {
   "cell_type": "code",
   "execution_count": 1,
   "id": "872d8a66-4330-40fc-bac7-992bba510182",
   "metadata": {},
   "outputs": [],
   "source": [
    "# VIDEOS_FILE = \"videos.csv\"\n",
    "# COMMENTS_FILE = \"comments.csv\"\n",
    "# CREDENTIALS_FILE = 'credentials.ini'\n",
    "# START_DATE = datetime(2020, 1, 1)\n",
    "# END_DATE = datetime(2023, 1, 1)\n",
    "# KEYWORDS =['coronavirus', 'covid', 'covid-19', 'pandemic']\n",
    "# # You can use functin get_channel_info() to extract the channel ID of a sample video from a news publisher ...\n",
    "# CHANNELS = {\n",
    "#     'UCXIJgqnII2ZOINSWNOGFThA' : 'Fox News',\n",
    "#     'UC16niRr50-MSBwiO3YDb3RA' : 'BBC News',\n",
    "#     'UCupvZG-5ko_eiXAupbDfxWw' : 'CNN',\n",
    "#     'UCaXkIU1QidjPwiAYu6GcHjg' : 'MSNBC'\n",
    "# }\n",
    "# MAX_VIDEOS = 50 # the maximum number of video that should be returned for each request. Acceptable values are 0 to 50\n",
    "# QUERY= f\"intitle:{','.join(KEYWORDS)}\""
   ]
  },
  {
   "cell_type": "markdown",
   "id": "45865861-25c8-4cb6-99a2-832aace9d65d",
   "metadata": {
    "tags": []
   },
   "source": [
    "### C. Imports\n",
    "You need to import the following libraries. Install the libraries using \"conda install ... or pip install ...\" if they have not been installed on your machine. For example you can install google api python client by executing \"conda install google-api-python-client\""
   ]
  },
  {
   "cell_type": "code",
   "execution_count": 2,
   "id": "14131785-ec21-4364-96fc-7d930999ba5f",
   "metadata": {
    "tags": []
   },
   "outputs": [
    {
     "name": "stderr",
     "output_type": "stream",
     "text": [
      "[nltk_data] Error loading stopwords: <urlopen error [SSL:\n",
      "[nltk_data]     CERTIFICATE_VERIFY_FAILED] certificate verify failed:\n",
      "[nltk_data]     unable to get local issuer certificate (_ssl.c:1028)>\n"
     ]
    }
   ],
   "source": [
    "import pandas as pd\n",
    "import seaborn as sns\n",
    "import matplotlib.pyplot as plt\n",
    "from googleapiclient.discovery import build\n",
    "from googleapiclient.errors import HttpError\n",
    "from datetime import datetime\n",
    "import os\n",
    "from configparser import ConfigParser\n",
    "import re\n",
    "import nltk\n",
    "nltk.download('stopwords')\n",
    "from nltk.corpus import stopwords\n",
    "from langdetect import detect\n",
    "import langdetect\n",
    "from textblob import TextBlob\n",
    "import calendar\n",
    "import matplotlib.dates as mdates\n",
    "from matplotlib.dates import DateFormatter\n",
    "from prettytable import PrettyTable\n",
    "from tabulate import tabulate\n",
    "import numpy as np\n",
    "from collections import defaultdict\n",
    "import warnings\n",
    "#from pandas.core.common import SettingWithCopyWarning\n",
    "# Ignore the warning\n",
    "warnings.filterwarnings('ignore')"
   ]
  },
  {
   "cell_type": "markdown",
   "id": "1dacb47b-bc27-4224-bbdb-d6fe960387ba",
   "metadata": {
    "tags": []
   },
   "source": [
    "### D. Clean and Prepare the Data"
   ]
  },
  {
   "cell_type": "markdown",
   "id": "53640a66-446e-470c-9b7d-928367dcfee3",
   "metadata": {},
   "source": [
    "##### D.1. Write Python code that cleans the data for analyzing the videos and comments."
   ]
  },
  {
   "cell_type": "code",
   "execution_count": 3,
   "id": "4282dba5-9feb-4860-be39-efac070d9827",
   "metadata": {},
   "outputs": [],
   "source": [
    "# a basic data cleaning has been performed on the collected data by the clean_data()function in collect.ipynb\n",
    "# additionl data cleaning can be added here - if needed \n",
    "\n",
    "comment_data = pd.read_csv('comments.csv')\n",
    "video_data = pd.read_csv('videos.csv') #Read the csv's.\n",
    " "
   ]
  },
  {
   "cell_type": "code",
   "execution_count": 4,
   "id": "2cfbbea6",
   "metadata": {},
   "outputs": [
    {
     "data": {
      "text/html": [
       "<div>\n",
       "<style scoped>\n",
       "    .dataframe tbody tr th:only-of-type {\n",
       "        vertical-align: middle;\n",
       "    }\n",
       "\n",
       "    .dataframe tbody tr th {\n",
       "        vertical-align: top;\n",
       "    }\n",
       "\n",
       "    .dataframe thead th {\n",
       "        text-align: right;\n",
       "    }\n",
       "</style>\n",
       "<table border=\"1\" class=\"dataframe\">\n",
       "  <thead>\n",
       "    <tr style=\"text-align: right;\">\n",
       "      <th></th>\n",
       "      <th>video_id</th>\n",
       "      <th>comment_id</th>\n",
       "      <th>comment_text</th>\n",
       "      <th>comment_author</th>\n",
       "      <th>comment_date</th>\n",
       "      <th>comment_like_count</th>\n",
       "      <th>parent_comment_id</th>\n",
       "    </tr>\n",
       "  </thead>\n",
       "  <tbody>\n",
       "    <tr>\n",
       "      <th>0</th>\n",
       "      <td>d1eEWihvwpQ</td>\n",
       "      <td>UgzZ6fvV9JGsvh0159p4AaABAg</td>\n",
       "      <td>hello 5 years later</td>\n",
       "      <td>@Bobherry</td>\n",
       "      <td>2025-03-10T23:40:26Z</td>\n",
       "      <td>0</td>\n",
       "      <td>NaN</td>\n",
       "    </tr>\n",
       "    <tr>\n",
       "      <th>1</th>\n",
       "      <td>d1eEWihvwpQ</td>\n",
       "      <td>UgxmZNK1ZIj5jMBUemZ4AaABAg</td>\n",
       "      <td>Permanently messed up my sense of time</td>\n",
       "      <td>@radioactivebeverage</td>\n",
       "      <td>2024-03-15T01:47:38Z</td>\n",
       "      <td>2</td>\n",
       "      <td>NaN</td>\n",
       "    </tr>\n",
       "    <tr>\n",
       "      <th>2</th>\n",
       "      <td>d1eEWihvwpQ</td>\n",
       "      <td>UgxbTG_0cWGvMAee0sx4AaABAg</td>\n",
       "      <td>I had COVID-19 in August and it was Super Unpl...</td>\n",
       "      <td>@rosieasmrwhispererzephier7021</td>\n",
       "      <td>2022-10-11T02:46:38Z</td>\n",
       "      <td>0</td>\n",
       "      <td>NaN</td>\n",
       "    </tr>\n",
       "    <tr>\n",
       "      <th>3</th>\n",
       "      <td>d1eEWihvwpQ</td>\n",
       "      <td>UgxbTG_0cWGvMAee0sx4AaABAg.9h1A5EF38D69wxn0x1JQlS</td>\n",
       "      <td>@@showline8303much better I also had Influenza...</td>\n",
       "      <td>@rosieasmrwhispererzephier7021</td>\n",
       "      <td>2023-11-11T02:21:41Z</td>\n",
       "      <td>0</td>\n",
       "      <td>UgxbTG_0cWGvMAee0sx4AaABAg</td>\n",
       "    </tr>\n",
       "    <tr>\n",
       "      <th>4</th>\n",
       "      <td>d1eEWihvwpQ</td>\n",
       "      <td>UgzBGHRwVHq4rkAa4AZ4AaABAg</td>\n",
       "      <td>This happened on March 26, 2020.  That is when...</td>\n",
       "      <td>@danhobson24</td>\n",
       "      <td>2022-06-08T21:53:44Z</td>\n",
       "      <td>0</td>\n",
       "      <td>NaN</td>\n",
       "    </tr>\n",
       "    <tr>\n",
       "      <th>5</th>\n",
       "      <td>d1eEWihvwpQ</td>\n",
       "      <td>Ugy03Fu2_XAUTUUsHtB4AaABAg</td>\n",
       "      <td>It's been a year :(</td>\n",
       "      <td>@monsehere8090</td>\n",
       "      <td>2021-03-14T15:29:55Z</td>\n",
       "      <td>2</td>\n",
       "      <td>NaN</td>\n",
       "    </tr>\n",
       "    <tr>\n",
       "      <th>6</th>\n",
       "      <td>d1eEWihvwpQ</td>\n",
       "      <td>Ugy03Fu2_XAUTUUsHtB4AaABAg.9KsNZhCLLuv9Qzry2OY6ej</td>\n",
       "      <td>:(</td>\n",
       "      <td>@kobimansaray</td>\n",
       "      <td>2021-08-13T16:27:18Z</td>\n",
       "      <td>0</td>\n",
       "      <td>Ugy03Fu2_XAUTUUsHtB4AaABAg</td>\n",
       "    </tr>\n",
       "    <tr>\n",
       "      <th>7</th>\n",
       "      <td>d1eEWihvwpQ</td>\n",
       "      <td>UgyNQj-9Y4fq6TXadaJ4AaABAg</td>\n",
       "      <td>Why is fox news repeatedly reporting on \"new c...</td>\n",
       "      <td>@tonytony6912</td>\n",
       "      <td>2020-07-04T22:14:22Z</td>\n",
       "      <td>1</td>\n",
       "      <td>NaN</td>\n",
       "    </tr>\n",
       "    <tr>\n",
       "      <th>8</th>\n",
       "      <td>d1eEWihvwpQ</td>\n",
       "      <td>UgyvO3i6UgtuSiMj8VF4AaABAg</td>\n",
       "      <td>You spread the news🦋💕🧚🏻now ✨stop✨</td>\n",
       "      <td>@arianaecall</td>\n",
       "      <td>2020-06-25T02:01:25Z</td>\n",
       "      <td>0</td>\n",
       "      <td>NaN</td>\n",
       "    </tr>\n",
       "    <tr>\n",
       "      <th>9</th>\n",
       "      <td>d1eEWihvwpQ</td>\n",
       "      <td>UgzsnLxvGIf4zKr2HUN4AaABAg</td>\n",
       "      <td>Trump is killing the USA!</td>\n",
       "      <td>@tjeerdbeem</td>\n",
       "      <td>2020-05-23T08:01:17Z</td>\n",
       "      <td>1</td>\n",
       "      <td>NaN</td>\n",
       "    </tr>\n",
       "  </tbody>\n",
       "</table>\n",
       "</div>"
      ],
      "text/plain": [
       "      video_id                                         comment_id  \\\n",
       "0  d1eEWihvwpQ                         UgzZ6fvV9JGsvh0159p4AaABAg   \n",
       "1  d1eEWihvwpQ                         UgxmZNK1ZIj5jMBUemZ4AaABAg   \n",
       "2  d1eEWihvwpQ                         UgxbTG_0cWGvMAee0sx4AaABAg   \n",
       "3  d1eEWihvwpQ  UgxbTG_0cWGvMAee0sx4AaABAg.9h1A5EF38D69wxn0x1JQlS   \n",
       "4  d1eEWihvwpQ                         UgzBGHRwVHq4rkAa4AZ4AaABAg   \n",
       "5  d1eEWihvwpQ                         Ugy03Fu2_XAUTUUsHtB4AaABAg   \n",
       "6  d1eEWihvwpQ  Ugy03Fu2_XAUTUUsHtB4AaABAg.9KsNZhCLLuv9Qzry2OY6ej   \n",
       "7  d1eEWihvwpQ                         UgyNQj-9Y4fq6TXadaJ4AaABAg   \n",
       "8  d1eEWihvwpQ                         UgyvO3i6UgtuSiMj8VF4AaABAg   \n",
       "9  d1eEWihvwpQ                         UgzsnLxvGIf4zKr2HUN4AaABAg   \n",
       "\n",
       "                                        comment_text  \\\n",
       "0                                hello 5 years later   \n",
       "1             Permanently messed up my sense of time   \n",
       "2  I had COVID-19 in August and it was Super Unpl...   \n",
       "3  @@showline8303much better I also had Influenza...   \n",
       "4  This happened on March 26, 2020.  That is when...   \n",
       "5                                It's been a year :(   \n",
       "6                                                 :(   \n",
       "7  Why is fox news repeatedly reporting on \"new c...   \n",
       "8                  You spread the news🦋💕🧚🏻now ✨stop✨   \n",
       "9                          Trump is killing the USA!   \n",
       "\n",
       "                   comment_author          comment_date  comment_like_count  \\\n",
       "0                       @Bobherry  2025-03-10T23:40:26Z                   0   \n",
       "1            @radioactivebeverage  2024-03-15T01:47:38Z                   2   \n",
       "2  @rosieasmrwhispererzephier7021  2022-10-11T02:46:38Z                   0   \n",
       "3  @rosieasmrwhispererzephier7021  2023-11-11T02:21:41Z                   0   \n",
       "4                    @danhobson24  2022-06-08T21:53:44Z                   0   \n",
       "5                  @monsehere8090  2021-03-14T15:29:55Z                   2   \n",
       "6                   @kobimansaray  2021-08-13T16:27:18Z                   0   \n",
       "7                   @tonytony6912  2020-07-04T22:14:22Z                   1   \n",
       "8                    @arianaecall  2020-06-25T02:01:25Z                   0   \n",
       "9                     @tjeerdbeem  2020-05-23T08:01:17Z                   1   \n",
       "\n",
       "            parent_comment_id  \n",
       "0                         NaN  \n",
       "1                         NaN  \n",
       "2                         NaN  \n",
       "3  UgxbTG_0cWGvMAee0sx4AaABAg  \n",
       "4                         NaN  \n",
       "5                         NaN  \n",
       "6  Ugy03Fu2_XAUTUUsHtB4AaABAg  \n",
       "7                         NaN  \n",
       "8                         NaN  \n",
       "9                         NaN  "
      ]
     },
     "execution_count": 4,
     "metadata": {},
     "output_type": "execute_result"
    }
   ],
   "source": [
    "comment_data.head(10) #Get a basic idea of the data"
   ]
  },
  {
   "cell_type": "code",
   "execution_count": 5,
   "id": "bac27649",
   "metadata": {},
   "outputs": [
    {
     "data": {
      "text/html": [
       "<div>\n",
       "<style scoped>\n",
       "    .dataframe tbody tr th:only-of-type {\n",
       "        vertical-align: middle;\n",
       "    }\n",
       "\n",
       "    .dataframe tbody tr th {\n",
       "        vertical-align: top;\n",
       "    }\n",
       "\n",
       "    .dataframe thead th {\n",
       "        text-align: right;\n",
       "    }\n",
       "</style>\n",
       "<table border=\"1\" class=\"dataframe\">\n",
       "  <thead>\n",
       "    <tr style=\"text-align: right;\">\n",
       "      <th></th>\n",
       "      <th>video_id</th>\n",
       "      <th>channel_id</th>\n",
       "      <th>video_title</th>\n",
       "      <th>channel_title</th>\n",
       "      <th>category_name</th>\n",
       "      <th>live_upcoming_none</th>\n",
       "      <th>view_count</th>\n",
       "      <th>like_count</th>\n",
       "      <th>dislike_count</th>\n",
       "      <th>comment_count</th>\n",
       "      <th>published_at</th>\n",
       "      <th>tags</th>\n",
       "      <th>duration</th>\n",
       "      <th>definition</th>\n",
       "      <th>caption</th>\n",
       "      <th>thumbnail</th>\n",
       "      <th>url</th>\n",
       "    </tr>\n",
       "  </thead>\n",
       "  <tbody>\n",
       "    <tr>\n",
       "      <th>0</th>\n",
       "      <td>d1eEWihvwpQ</td>\n",
       "      <td>UCXIJgqnII2ZOINSWNOGFThA</td>\n",
       "      <td>who declares coronavirus outbreak a pandemic</td>\n",
       "      <td>Fox News</td>\n",
       "      <td>News &amp; Politics</td>\n",
       "      <td>none</td>\n",
       "      <td>457860</td>\n",
       "      <td>3617</td>\n",
       "      <td>0</td>\n",
       "      <td>1901</td>\n",
       "      <td>2020-03-11T16:50:56Z</td>\n",
       "      <td>fox news alert,breaking news,fox,news,fox news...</td>\n",
       "      <td>PT51S</td>\n",
       "      <td>hd</td>\n",
       "      <td>True</td>\n",
       "      <td>https://i.ytimg.com/vi/d1eEWihvwpQ/default.jpg</td>\n",
       "      <td>https://www.youtube.com/watch?v=d1eEWihvwpQ</td>\n",
       "    </tr>\n",
       "    <tr>\n",
       "      <th>1</th>\n",
       "      <td>0pkwjVhq230</td>\n",
       "      <td>UCXIJgqnII2ZOINSWNOGFThA</td>\n",
       "      <td>coronavirus pandemic questions answered  part</td>\n",
       "      <td>Fox News</td>\n",
       "      <td>News &amp; Politics</td>\n",
       "      <td>none</td>\n",
       "      <td>45006</td>\n",
       "      <td>415</td>\n",
       "      <td>0</td>\n",
       "      <td>124</td>\n",
       "      <td>2020-03-16T18:18:47Z</td>\n",
       "      <td>Fox News Channel,Fox News,News,FNC,harris faul...</td>\n",
       "      <td>PT4M11S</td>\n",
       "      <td>hd</td>\n",
       "      <td>True</td>\n",
       "      <td>https://i.ytimg.com/vi/0pkwjVhq230/default.jpg</td>\n",
       "      <td>https://www.youtube.com/watch?v=0pkwjVhq230</td>\n",
       "    </tr>\n",
       "    <tr>\n",
       "      <th>2</th>\n",
       "      <td>zwX5z_BvaN4</td>\n",
       "      <td>UCXIJgqnII2ZOINSWNOGFThA</td>\n",
       "      <td>coronavirus pandemic questions answered  part</td>\n",
       "      <td>Fox News</td>\n",
       "      <td>News &amp; Politics</td>\n",
       "      <td>none</td>\n",
       "      <td>43193</td>\n",
       "      <td>634</td>\n",
       "      <td>0</td>\n",
       "      <td>179</td>\n",
       "      <td>2020-03-16T18:12:18Z</td>\n",
       "      <td>Fox News Channel,Fox News,News,FNC,outnumbered...</td>\n",
       "      <td>PT7M33S</td>\n",
       "      <td>hd</td>\n",
       "      <td>True</td>\n",
       "      <td>https://i.ytimg.com/vi/zwX5z_BvaN4/default.jpg</td>\n",
       "      <td>https://www.youtube.com/watch?v=zwX5z_BvaN4</td>\n",
       "    </tr>\n",
       "    <tr>\n",
       "      <th>3</th>\n",
       "      <td>6G_-qe0iMBs</td>\n",
       "      <td>UCXIJgqnII2ZOINSWNOGFThA</td>\n",
       "      <td>coronavirus pandemic questions answered  part</td>\n",
       "      <td>Fox News</td>\n",
       "      <td>News &amp; Politics</td>\n",
       "      <td>none</td>\n",
       "      <td>41458</td>\n",
       "      <td>397</td>\n",
       "      <td>0</td>\n",
       "      <td>170</td>\n",
       "      <td>2020-03-16T18:24:00Z</td>\n",
       "      <td>Fox News Channel,Fox News,News,FNC,harris faul...</td>\n",
       "      <td>PT4M21S</td>\n",
       "      <td>hd</td>\n",
       "      <td>True</td>\n",
       "      <td>https://i.ytimg.com/vi/6G_-qe0iMBs/default.jpg</td>\n",
       "      <td>https://www.youtube.com/watch?v=6G_-qe0iMBs</td>\n",
       "    </tr>\n",
       "    <tr>\n",
       "      <th>4</th>\n",
       "      <td>xhpqX1NbusQ</td>\n",
       "      <td>UCXIJgqnII2ZOINSWNOGFThA</td>\n",
       "      <td>coronavirus pandemic questions answered  part</td>\n",
       "      <td>Fox News</td>\n",
       "      <td>News &amp; Politics</td>\n",
       "      <td>none</td>\n",
       "      <td>39517</td>\n",
       "      <td>498</td>\n",
       "      <td>0</td>\n",
       "      <td>282</td>\n",
       "      <td>2020-03-16T18:25:52Z</td>\n",
       "      <td>Fox News Channel,Fox News,News,FNC,harris faul...</td>\n",
       "      <td>PT5M50S</td>\n",
       "      <td>hd</td>\n",
       "      <td>True</td>\n",
       "      <td>https://i.ytimg.com/vi/xhpqX1NbusQ/default.jpg</td>\n",
       "      <td>https://www.youtube.com/watch?v=xhpqX1NbusQ</td>\n",
       "    </tr>\n",
       "    <tr>\n",
       "      <th>5</th>\n",
       "      <td>lJcjFGt9eQM</td>\n",
       "      <td>UCXIJgqnII2ZOINSWNOGFThA</td>\n",
       "      <td>coronavirus pandemic questions answered  part</td>\n",
       "      <td>Fox News</td>\n",
       "      <td>News &amp; Politics</td>\n",
       "      <td>none</td>\n",
       "      <td>185803</td>\n",
       "      <td>2432</td>\n",
       "      <td>0</td>\n",
       "      <td>929</td>\n",
       "      <td>2020-03-16T18:00:09Z</td>\n",
       "      <td>Fox News Channel,Fox news,News,FNC,outnumbered...</td>\n",
       "      <td>PT9M49S</td>\n",
       "      <td>hd</td>\n",
       "      <td>True</td>\n",
       "      <td>https://i.ytimg.com/vi/lJcjFGt9eQM/default.jpg</td>\n",
       "      <td>https://www.youtube.com/watch?v=lJcjFGt9eQM</td>\n",
       "    </tr>\n",
       "    <tr>\n",
       "      <th>6</th>\n",
       "      <td>bf4WRdPnf4I</td>\n",
       "      <td>UCXIJgqnII2ZOINSWNOGFThA</td>\n",
       "      <td>gym owners reflect on coronavirus pandemic one...</td>\n",
       "      <td>Fox News</td>\n",
       "      <td>News &amp; Politics</td>\n",
       "      <td>none</td>\n",
       "      <td>9178</td>\n",
       "      <td>285</td>\n",
       "      <td>0</td>\n",
       "      <td>135</td>\n",
       "      <td>2021-03-16T11:15:03Z</td>\n",
       "      <td>coronavirus,coronavirus pandemic,COVID-19,smal...</td>\n",
       "      <td>PT5M18S</td>\n",
       "      <td>hd</td>\n",
       "      <td>True</td>\n",
       "      <td>https://i.ytimg.com/vi/bf4WRdPnf4I/default.jpg</td>\n",
       "      <td>https://www.youtube.com/watch?v=bf4WRdPnf4I</td>\n",
       "    </tr>\n",
       "    <tr>\n",
       "      <th>7</th>\n",
       "      <td>2j3YtPVBT30</td>\n",
       "      <td>UCXIJgqnII2ZOINSWNOGFThA</td>\n",
       "      <td>ny gov cuomo talks rent payments coronavirus c...</td>\n",
       "      <td>Fox News</td>\n",
       "      <td>News &amp; Politics</td>\n",
       "      <td>none</td>\n",
       "      <td>84924</td>\n",
       "      <td>537</td>\n",
       "      <td>0</td>\n",
       "      <td>542</td>\n",
       "      <td>2020-03-30T18:00:34Z</td>\n",
       "      <td>Fox News Channel,FNC,Fox News,News,Latest News...</td>\n",
       "      <td>PT37M54S</td>\n",
       "      <td>hd</td>\n",
       "      <td>False</td>\n",
       "      <td>https://i.ytimg.com/vi/2j3YtPVBT30/default.jpg</td>\n",
       "      <td>https://www.youtube.com/watch?v=2j3YtPVBT30</td>\n",
       "    </tr>\n",
       "    <tr>\n",
       "      <th>8</th>\n",
       "      <td>76J7SqZXG1g</td>\n",
       "      <td>UCXIJgqnII2ZOINSWNOGFThA</td>\n",
       "      <td>coronavirus pandemic questions answered  part</td>\n",
       "      <td>Fox News</td>\n",
       "      <td>News &amp; Politics</td>\n",
       "      <td>none</td>\n",
       "      <td>30932</td>\n",
       "      <td>402</td>\n",
       "      <td>0</td>\n",
       "      <td>124</td>\n",
       "      <td>2020-03-16T18:22:44Z</td>\n",
       "      <td>Fox News Channel,Fox News,News,FNC,harris faul...</td>\n",
       "      <td>PT7M42S</td>\n",
       "      <td>hd</td>\n",
       "      <td>True</td>\n",
       "      <td>https://i.ytimg.com/vi/76J7SqZXG1g/default.jpg</td>\n",
       "      <td>https://www.youtube.com/watch?v=76J7SqZXG1g</td>\n",
       "    </tr>\n",
       "    <tr>\n",
       "      <th>9</th>\n",
       "      <td>hIpCSt6NUJg</td>\n",
       "      <td>UCXIJgqnII2ZOINSWNOGFThA</td>\n",
       "      <td>ingraham what we still dont know about coronav...</td>\n",
       "      <td>Fox News</td>\n",
       "      <td>News &amp; Politics</td>\n",
       "      <td>none</td>\n",
       "      <td>289283</td>\n",
       "      <td>6351</td>\n",
       "      <td>0</td>\n",
       "      <td>1894</td>\n",
       "      <td>2020-03-18T03:40:19Z</td>\n",
       "      <td>Fox News Channel,Fox News,News,opinion,the ing...</td>\n",
       "      <td>PT8M9S</td>\n",
       "      <td>hd</td>\n",
       "      <td>True</td>\n",
       "      <td>https://i.ytimg.com/vi/hIpCSt6NUJg/default.jpg</td>\n",
       "      <td>https://www.youtube.com/watch?v=hIpCSt6NUJg</td>\n",
       "    </tr>\n",
       "  </tbody>\n",
       "</table>\n",
       "</div>"
      ],
      "text/plain": [
       "      video_id                channel_id  \\\n",
       "0  d1eEWihvwpQ  UCXIJgqnII2ZOINSWNOGFThA   \n",
       "1  0pkwjVhq230  UCXIJgqnII2ZOINSWNOGFThA   \n",
       "2  zwX5z_BvaN4  UCXIJgqnII2ZOINSWNOGFThA   \n",
       "3  6G_-qe0iMBs  UCXIJgqnII2ZOINSWNOGFThA   \n",
       "4  xhpqX1NbusQ  UCXIJgqnII2ZOINSWNOGFThA   \n",
       "5  lJcjFGt9eQM  UCXIJgqnII2ZOINSWNOGFThA   \n",
       "6  bf4WRdPnf4I  UCXIJgqnII2ZOINSWNOGFThA   \n",
       "7  2j3YtPVBT30  UCXIJgqnII2ZOINSWNOGFThA   \n",
       "8  76J7SqZXG1g  UCXIJgqnII2ZOINSWNOGFThA   \n",
       "9  hIpCSt6NUJg  UCXIJgqnII2ZOINSWNOGFThA   \n",
       "\n",
       "                                         video_title channel_title  \\\n",
       "0       who declares coronavirus outbreak a pandemic      Fox News   \n",
       "1     coronavirus pandemic questions answered  part       Fox News   \n",
       "2     coronavirus pandemic questions answered  part       Fox News   \n",
       "3     coronavirus pandemic questions answered  part       Fox News   \n",
       "4     coronavirus pandemic questions answered  part       Fox News   \n",
       "5     coronavirus pandemic questions answered  part       Fox News   \n",
       "6  gym owners reflect on coronavirus pandemic one...      Fox News   \n",
       "7  ny gov cuomo talks rent payments coronavirus c...      Fox News   \n",
       "8     coronavirus pandemic questions answered  part       Fox News   \n",
       "9  ingraham what we still dont know about coronav...      Fox News   \n",
       "\n",
       "     category_name live_upcoming_none  view_count  like_count  dislike_count  \\\n",
       "0  News & Politics               none      457860        3617              0   \n",
       "1  News & Politics               none       45006         415              0   \n",
       "2  News & Politics               none       43193         634              0   \n",
       "3  News & Politics               none       41458         397              0   \n",
       "4  News & Politics               none       39517         498              0   \n",
       "5  News & Politics               none      185803        2432              0   \n",
       "6  News & Politics               none        9178         285              0   \n",
       "7  News & Politics               none       84924         537              0   \n",
       "8  News & Politics               none       30932         402              0   \n",
       "9  News & Politics               none      289283        6351              0   \n",
       "\n",
       "   comment_count          published_at  \\\n",
       "0           1901  2020-03-11T16:50:56Z   \n",
       "1            124  2020-03-16T18:18:47Z   \n",
       "2            179  2020-03-16T18:12:18Z   \n",
       "3            170  2020-03-16T18:24:00Z   \n",
       "4            282  2020-03-16T18:25:52Z   \n",
       "5            929  2020-03-16T18:00:09Z   \n",
       "6            135  2021-03-16T11:15:03Z   \n",
       "7            542  2020-03-30T18:00:34Z   \n",
       "8            124  2020-03-16T18:22:44Z   \n",
       "9           1894  2020-03-18T03:40:19Z   \n",
       "\n",
       "                                                tags  duration definition  \\\n",
       "0  fox news alert,breaking news,fox,news,fox news...     PT51S         hd   \n",
       "1  Fox News Channel,Fox News,News,FNC,harris faul...   PT4M11S         hd   \n",
       "2  Fox News Channel,Fox News,News,FNC,outnumbered...   PT7M33S         hd   \n",
       "3  Fox News Channel,Fox News,News,FNC,harris faul...   PT4M21S         hd   \n",
       "4  Fox News Channel,Fox News,News,FNC,harris faul...   PT5M50S         hd   \n",
       "5  Fox News Channel,Fox news,News,FNC,outnumbered...   PT9M49S         hd   \n",
       "6  coronavirus,coronavirus pandemic,COVID-19,smal...   PT5M18S         hd   \n",
       "7  Fox News Channel,FNC,Fox News,News,Latest News...  PT37M54S         hd   \n",
       "8  Fox News Channel,Fox News,News,FNC,harris faul...   PT7M42S         hd   \n",
       "9  Fox News Channel,Fox News,News,opinion,the ing...    PT8M9S         hd   \n",
       "\n",
       "   caption                                       thumbnail  \\\n",
       "0     True  https://i.ytimg.com/vi/d1eEWihvwpQ/default.jpg   \n",
       "1     True  https://i.ytimg.com/vi/0pkwjVhq230/default.jpg   \n",
       "2     True  https://i.ytimg.com/vi/zwX5z_BvaN4/default.jpg   \n",
       "3     True  https://i.ytimg.com/vi/6G_-qe0iMBs/default.jpg   \n",
       "4     True  https://i.ytimg.com/vi/xhpqX1NbusQ/default.jpg   \n",
       "5     True  https://i.ytimg.com/vi/lJcjFGt9eQM/default.jpg   \n",
       "6     True  https://i.ytimg.com/vi/bf4WRdPnf4I/default.jpg   \n",
       "7    False  https://i.ytimg.com/vi/2j3YtPVBT30/default.jpg   \n",
       "8     True  https://i.ytimg.com/vi/76J7SqZXG1g/default.jpg   \n",
       "9     True  https://i.ytimg.com/vi/hIpCSt6NUJg/default.jpg   \n",
       "\n",
       "                                           url  \n",
       "0  https://www.youtube.com/watch?v=d1eEWihvwpQ  \n",
       "1  https://www.youtube.com/watch?v=0pkwjVhq230  \n",
       "2  https://www.youtube.com/watch?v=zwX5z_BvaN4  \n",
       "3  https://www.youtube.com/watch?v=6G_-qe0iMBs  \n",
       "4  https://www.youtube.com/watch?v=xhpqX1NbusQ  \n",
       "5  https://www.youtube.com/watch?v=lJcjFGt9eQM  \n",
       "6  https://www.youtube.com/watch?v=bf4WRdPnf4I  \n",
       "7  https://www.youtube.com/watch?v=2j3YtPVBT30  \n",
       "8  https://www.youtube.com/watch?v=76J7SqZXG1g  \n",
       "9  https://www.youtube.com/watch?v=hIpCSt6NUJg  "
      ]
     },
     "execution_count": 5,
     "metadata": {},
     "output_type": "execute_result"
    }
   ],
   "source": [
    "video_data.head(10) #Get a basic idea of the data."
   ]
  },
  {
   "cell_type": "code",
   "execution_count": 6,
   "id": "93f028be",
   "metadata": {},
   "outputs": [
    {
     "name": "stdout",
     "output_type": "stream",
     "text": [
      "<class 'pandas.core.frame.DataFrame'>\n",
      "RangeIndex: 4378 entries, 0 to 4377\n",
      "Data columns (total 7 columns):\n",
      " #   Column              Non-Null Count  Dtype \n",
      "---  ------              --------------  ----- \n",
      " 0   video_id            4378 non-null   object\n",
      " 1   comment_id          4378 non-null   object\n",
      " 2   comment_text        4378 non-null   object\n",
      " 3   comment_author      4373 non-null   object\n",
      " 4   comment_date        4378 non-null   object\n",
      " 5   comment_like_count  4378 non-null   int64 \n",
      " 6   parent_comment_id   501 non-null    object\n",
      "dtypes: int64(1), object(6)\n",
      "memory usage: 239.6+ KB\n"
     ]
    }
   ],
   "source": [
    "comment_data.info(verbose=True) #Check for na's and other issues."
   ]
  },
  {
   "cell_type": "code",
   "execution_count": 7,
   "id": "aa56ae7f",
   "metadata": {},
   "outputs": [
    {
     "name": "stdout",
     "output_type": "stream",
     "text": [
      "<class 'pandas.core.frame.DataFrame'>\n",
      "RangeIndex: 200 entries, 0 to 199\n",
      "Data columns (total 17 columns):\n",
      " #   Column              Non-Null Count  Dtype \n",
      "---  ------              --------------  ----- \n",
      " 0   video_id            200 non-null    object\n",
      " 1   channel_id          200 non-null    object\n",
      " 2   video_title         200 non-null    object\n",
      " 3   channel_title       200 non-null    object\n",
      " 4   category_name       200 non-null    object\n",
      " 5   live_upcoming_none  200 non-null    object\n",
      " 6   view_count          200 non-null    int64 \n",
      " 7   like_count          200 non-null    int64 \n",
      " 8   dislike_count       200 non-null    int64 \n",
      " 9   comment_count       200 non-null    int64 \n",
      " 10  published_at        200 non-null    object\n",
      " 11  tags                200 non-null    object\n",
      " 12  duration            200 non-null    object\n",
      " 13  definition          200 non-null    object\n",
      " 14  caption             200 non-null    bool  \n",
      " 15  thumbnail           200 non-null    object\n",
      " 16  url                 200 non-null    object\n",
      "dtypes: bool(1), int64(4), object(12)\n",
      "memory usage: 25.3+ KB\n"
     ]
    }
   ],
   "source": [
    "video_data.info(verbose=True) #Check for na's and other issues."
   ]
  },
  {
   "cell_type": "code",
   "execution_count": 8,
   "id": "d0e0301e",
   "metadata": {},
   "outputs": [
    {
     "data": {
      "text/plain": [
       "0        True\n",
       "1        True\n",
       "2        True\n",
       "3       False\n",
       "4        True\n",
       "        ...  \n",
       "4373     True\n",
       "4374     True\n",
       "4375     True\n",
       "4376     True\n",
       "4377     True\n",
       "Name: parent_comment_id, Length: 4378, dtype: bool"
      ]
     },
     "execution_count": 8,
     "metadata": {},
     "output_type": "execute_result"
    }
   ],
   "source": [
    "comment_data['parent_comment_id'].isna()"
   ]
  },
  {
   "cell_type": "code",
   "execution_count": 9,
   "id": "e89d61e7",
   "metadata": {},
   "outputs": [
    {
     "data": {
      "text/html": [
       "<div>\n",
       "<style scoped>\n",
       "    .dataframe tbody tr th:only-of-type {\n",
       "        vertical-align: middle;\n",
       "    }\n",
       "\n",
       "    .dataframe tbody tr th {\n",
       "        vertical-align: top;\n",
       "    }\n",
       "\n",
       "    .dataframe thead th {\n",
       "        text-align: right;\n",
       "    }\n",
       "</style>\n",
       "<table border=\"1\" class=\"dataframe\">\n",
       "  <thead>\n",
       "    <tr style=\"text-align: right;\">\n",
       "      <th></th>\n",
       "      <th>video_id</th>\n",
       "      <th>comment_id</th>\n",
       "      <th>comment_text</th>\n",
       "      <th>comment_author</th>\n",
       "      <th>comment_date</th>\n",
       "      <th>comment_like_count</th>\n",
       "    </tr>\n",
       "  </thead>\n",
       "  <tbody>\n",
       "    <tr>\n",
       "      <th>0</th>\n",
       "      <td>d1eEWihvwpQ</td>\n",
       "      <td>UgzZ6fvV9JGsvh0159p4AaABAg</td>\n",
       "      <td>hello 5 years later</td>\n",
       "      <td>@Bobherry</td>\n",
       "      <td>2025-03-10T23:40:26Z</td>\n",
       "      <td>0</td>\n",
       "    </tr>\n",
       "    <tr>\n",
       "      <th>1</th>\n",
       "      <td>d1eEWihvwpQ</td>\n",
       "      <td>UgxmZNK1ZIj5jMBUemZ4AaABAg</td>\n",
       "      <td>Permanently messed up my sense of time</td>\n",
       "      <td>@radioactivebeverage</td>\n",
       "      <td>2024-03-15T01:47:38Z</td>\n",
       "      <td>2</td>\n",
       "    </tr>\n",
       "    <tr>\n",
       "      <th>2</th>\n",
       "      <td>d1eEWihvwpQ</td>\n",
       "      <td>UgxbTG_0cWGvMAee0sx4AaABAg</td>\n",
       "      <td>I had COVID-19 in August and it was Super Unpl...</td>\n",
       "      <td>@rosieasmrwhispererzephier7021</td>\n",
       "      <td>2022-10-11T02:46:38Z</td>\n",
       "      <td>0</td>\n",
       "    </tr>\n",
       "    <tr>\n",
       "      <th>3</th>\n",
       "      <td>d1eEWihvwpQ</td>\n",
       "      <td>UgxbTG_0cWGvMAee0sx4AaABAg.9h1A5EF38D69wxn0x1JQlS</td>\n",
       "      <td>@@showline8303much better I also had Influenza...</td>\n",
       "      <td>@rosieasmrwhispererzephier7021</td>\n",
       "      <td>2023-11-11T02:21:41Z</td>\n",
       "      <td>0</td>\n",
       "    </tr>\n",
       "    <tr>\n",
       "      <th>4</th>\n",
       "      <td>d1eEWihvwpQ</td>\n",
       "      <td>UgzBGHRwVHq4rkAa4AZ4AaABAg</td>\n",
       "      <td>This happened on March 26, 2020.  That is when...</td>\n",
       "      <td>@danhobson24</td>\n",
       "      <td>2022-06-08T21:53:44Z</td>\n",
       "      <td>0</td>\n",
       "    </tr>\n",
       "  </tbody>\n",
       "</table>\n",
       "</div>"
      ],
      "text/plain": [
       "      video_id                                         comment_id  \\\n",
       "0  d1eEWihvwpQ                         UgzZ6fvV9JGsvh0159p4AaABAg   \n",
       "1  d1eEWihvwpQ                         UgxmZNK1ZIj5jMBUemZ4AaABAg   \n",
       "2  d1eEWihvwpQ                         UgxbTG_0cWGvMAee0sx4AaABAg   \n",
       "3  d1eEWihvwpQ  UgxbTG_0cWGvMAee0sx4AaABAg.9h1A5EF38D69wxn0x1JQlS   \n",
       "4  d1eEWihvwpQ                         UgzBGHRwVHq4rkAa4AZ4AaABAg   \n",
       "\n",
       "                                        comment_text  \\\n",
       "0                                hello 5 years later   \n",
       "1             Permanently messed up my sense of time   \n",
       "2  I had COVID-19 in August and it was Super Unpl...   \n",
       "3  @@showline8303much better I also had Influenza...   \n",
       "4  This happened on March 26, 2020.  That is when...   \n",
       "\n",
       "                   comment_author          comment_date  comment_like_count  \n",
       "0                       @Bobherry  2025-03-10T23:40:26Z                   0  \n",
       "1            @radioactivebeverage  2024-03-15T01:47:38Z                   2  \n",
       "2  @rosieasmrwhispererzephier7021  2022-10-11T02:46:38Z                   0  \n",
       "3  @rosieasmrwhispererzephier7021  2023-11-11T02:21:41Z                   0  \n",
       "4                    @danhobson24  2022-06-08T21:53:44Z                   0  "
      ]
     },
     "execution_count": 9,
     "metadata": {},
     "output_type": "execute_result"
    }
   ],
   "source": [
    "comment_data.drop(columns= ['parent_comment_id'], inplace=True)\n",
    "comment_data.head()\n"
   ]
  },
  {
   "cell_type": "code",
   "execution_count": 10,
   "id": "d5190a31",
   "metadata": {},
   "outputs": [
    {
     "data": {
      "text/plain": [
       "np.False_"
      ]
     },
     "execution_count": 10,
     "metadata": {},
     "output_type": "execute_result"
    }
   ],
   "source": [
    "comment_data.duplicated().any()"
   ]
  },
  {
   "cell_type": "code",
   "execution_count": 11,
   "id": "385ae848",
   "metadata": {},
   "outputs": [
    {
     "data": {
      "text/plain": [
       "np.False_"
      ]
     },
     "execution_count": 11,
     "metadata": {},
     "output_type": "execute_result"
    }
   ],
   "source": [
    "video_data.duplicated().any() #No duplicates found in either df. We are good to go."
   ]
  },
  {
   "cell_type": "markdown",
   "id": "46b1bded-bb84-42ab-b9af-b0b73bfaed62",
   "metadata": {},
   "source": [
    "##### D.2. Write Python code that prepares the data for analyzing the videos and comments."
   ]
  },
  {
   "cell_type": "code",
   "execution_count": 12,
   "id": "d7a461d1",
   "metadata": {
    "tags": []
   },
   "outputs": [],
   "source": [
    "# A sample code for data preparation has been given below. Feel free to edit when needed\n",
    "\n",
    "# Load the videos and comments dataframes from their respective CSV files\n",
    "videos_df = pd.read_csv('videos.csv')\n",
    "comments_df = pd.read_csv('comments.csv')\n",
    "\n",
    "# Convert the published_at column to a datetime object for videos_df\n",
    "videos_df['published_at'] = pd.to_datetime(videos_df['published_at'], format='%Y-%m-%dT%H:%M:%SZ')\n",
    "\n",
    "# Create a new column that contains the published_at weekly\n",
    "videos_df['published_at_week'] = videos_df['published_at'].dt.strftime('%Y-%m-%W')\n",
    "\n",
    "# Create a new column that contains the published_at monthly\n",
    "videos_df['published_at_month'] = videos_df['published_at'].dt.strftime('%Y-%m')\n",
    "\n",
    "# Create a new column that contains the published_at monthly\n",
    "videos_df['published_at_year'] = videos_df['published_at'].dt.strftime('%Y')\n",
    "\n",
    "# Convert the published_at column to a datetime object for comments_df\n",
    "comments_df['comment_date'] = pd.to_datetime(comments_df['comment_date'], format='%Y-%m-%dT%H:%M:%SZ')\n",
    "\n",
    "# Create a new column that contains the published_at weekly\n",
    "comments_df['comment_date_week'] = comments_df['comment_date'].dt.strftime('%Y-%m-%W')\n",
    "\n",
    "# Create a new column that contains the published_at monthly\n",
    "comments_df['comment_date_month'] = comments_df['comment_date'].dt.strftime('%Y-%m')\n",
    "\n",
    "# Create a new column that contains the published_at monthly\n",
    "comments_df['comment_date_year'] = comments_df['comment_date'].dt.strftime('%Y')\n",
    "\n",
    "# Convert the duration column to seconds for videos_df\n",
    "videos_df['duration'] = videos_df['duration'].apply(lambda x: re.findall(r'PT(\\d+)M(\\d+)S', x))\n",
    "videos_df['duration'] = videos_df['duration'].apply(lambda x: int(x[0][0]) * 60 + int(x[0][1]) if len(x) > 0 else 0)\n",
    "\n",
    "# Prepared DataFrame objects; can be used for data analysis\n",
    "videos = videos_df.copy(deep=True)\n",
    "comments = comments_df.copy(deep=True)\n",
    "videos_comments_inner = pd.merge(videos,comments, on='video_id', how = 'inner') # merged videos and comments\n",
    "videos_comments_left = pd.merge(videos,comments, on='video_id', how = 'left') # left-merged videos and comments"
   ]
  },
  {
   "cell_type": "code",
   "execution_count": 13,
   "id": "7b10407c",
   "metadata": {},
   "outputs": [
    {
     "data": {
      "text/html": [
       "<div>\n",
       "<style scoped>\n",
       "    .dataframe tbody tr th:only-of-type {\n",
       "        vertical-align: middle;\n",
       "    }\n",
       "\n",
       "    .dataframe tbody tr th {\n",
       "        vertical-align: top;\n",
       "    }\n",
       "\n",
       "    .dataframe thead th {\n",
       "        text-align: right;\n",
       "    }\n",
       "</style>\n",
       "<table border=\"1\" class=\"dataframe\">\n",
       "  <thead>\n",
       "    <tr style=\"text-align: right;\">\n",
       "      <th></th>\n",
       "      <th>video_id</th>\n",
       "      <th>channel_id</th>\n",
       "      <th>video_title</th>\n",
       "      <th>channel_title</th>\n",
       "      <th>category_name</th>\n",
       "      <th>live_upcoming_none</th>\n",
       "      <th>view_count</th>\n",
       "      <th>like_count</th>\n",
       "      <th>dislike_count</th>\n",
       "      <th>comment_count</th>\n",
       "      <th>published_at</th>\n",
       "      <th>tags</th>\n",
       "      <th>duration</th>\n",
       "      <th>definition</th>\n",
       "      <th>caption</th>\n",
       "      <th>thumbnail</th>\n",
       "      <th>url</th>\n",
       "      <th>published_at_week</th>\n",
       "      <th>published_at_month</th>\n",
       "      <th>published_at_year</th>\n",
       "    </tr>\n",
       "  </thead>\n",
       "  <tbody>\n",
       "    <tr>\n",
       "      <th>0</th>\n",
       "      <td>d1eEWihvwpQ</td>\n",
       "      <td>UCXIJgqnII2ZOINSWNOGFThA</td>\n",
       "      <td>who declares coronavirus outbreak a pandemic</td>\n",
       "      <td>Fox News</td>\n",
       "      <td>News &amp; Politics</td>\n",
       "      <td>none</td>\n",
       "      <td>457860</td>\n",
       "      <td>3617</td>\n",
       "      <td>0</td>\n",
       "      <td>1901</td>\n",
       "      <td>2020-03-11 16:50:56</td>\n",
       "      <td>fox news alert,breaking news,fox,news,fox news...</td>\n",
       "      <td>0</td>\n",
       "      <td>hd</td>\n",
       "      <td>True</td>\n",
       "      <td>https://i.ytimg.com/vi/d1eEWihvwpQ/default.jpg</td>\n",
       "      <td>https://www.youtube.com/watch?v=d1eEWihvwpQ</td>\n",
       "      <td>2020-03-10</td>\n",
       "      <td>2020-03</td>\n",
       "      <td>2020</td>\n",
       "    </tr>\n",
       "    <tr>\n",
       "      <th>1</th>\n",
       "      <td>0pkwjVhq230</td>\n",
       "      <td>UCXIJgqnII2ZOINSWNOGFThA</td>\n",
       "      <td>coronavirus pandemic questions answered  part</td>\n",
       "      <td>Fox News</td>\n",
       "      <td>News &amp; Politics</td>\n",
       "      <td>none</td>\n",
       "      <td>45006</td>\n",
       "      <td>415</td>\n",
       "      <td>0</td>\n",
       "      <td>124</td>\n",
       "      <td>2020-03-16 18:18:47</td>\n",
       "      <td>Fox News Channel,Fox News,News,FNC,harris faul...</td>\n",
       "      <td>251</td>\n",
       "      <td>hd</td>\n",
       "      <td>True</td>\n",
       "      <td>https://i.ytimg.com/vi/0pkwjVhq230/default.jpg</td>\n",
       "      <td>https://www.youtube.com/watch?v=0pkwjVhq230</td>\n",
       "      <td>2020-03-11</td>\n",
       "      <td>2020-03</td>\n",
       "      <td>2020</td>\n",
       "    </tr>\n",
       "    <tr>\n",
       "      <th>2</th>\n",
       "      <td>zwX5z_BvaN4</td>\n",
       "      <td>UCXIJgqnII2ZOINSWNOGFThA</td>\n",
       "      <td>coronavirus pandemic questions answered  part</td>\n",
       "      <td>Fox News</td>\n",
       "      <td>News &amp; Politics</td>\n",
       "      <td>none</td>\n",
       "      <td>43193</td>\n",
       "      <td>634</td>\n",
       "      <td>0</td>\n",
       "      <td>179</td>\n",
       "      <td>2020-03-16 18:12:18</td>\n",
       "      <td>Fox News Channel,Fox News,News,FNC,outnumbered...</td>\n",
       "      <td>453</td>\n",
       "      <td>hd</td>\n",
       "      <td>True</td>\n",
       "      <td>https://i.ytimg.com/vi/zwX5z_BvaN4/default.jpg</td>\n",
       "      <td>https://www.youtube.com/watch?v=zwX5z_BvaN4</td>\n",
       "      <td>2020-03-11</td>\n",
       "      <td>2020-03</td>\n",
       "      <td>2020</td>\n",
       "    </tr>\n",
       "    <tr>\n",
       "      <th>3</th>\n",
       "      <td>6G_-qe0iMBs</td>\n",
       "      <td>UCXIJgqnII2ZOINSWNOGFThA</td>\n",
       "      <td>coronavirus pandemic questions answered  part</td>\n",
       "      <td>Fox News</td>\n",
       "      <td>News &amp; Politics</td>\n",
       "      <td>none</td>\n",
       "      <td>41458</td>\n",
       "      <td>397</td>\n",
       "      <td>0</td>\n",
       "      <td>170</td>\n",
       "      <td>2020-03-16 18:24:00</td>\n",
       "      <td>Fox News Channel,Fox News,News,FNC,harris faul...</td>\n",
       "      <td>261</td>\n",
       "      <td>hd</td>\n",
       "      <td>True</td>\n",
       "      <td>https://i.ytimg.com/vi/6G_-qe0iMBs/default.jpg</td>\n",
       "      <td>https://www.youtube.com/watch?v=6G_-qe0iMBs</td>\n",
       "      <td>2020-03-11</td>\n",
       "      <td>2020-03</td>\n",
       "      <td>2020</td>\n",
       "    </tr>\n",
       "    <tr>\n",
       "      <th>4</th>\n",
       "      <td>xhpqX1NbusQ</td>\n",
       "      <td>UCXIJgqnII2ZOINSWNOGFThA</td>\n",
       "      <td>coronavirus pandemic questions answered  part</td>\n",
       "      <td>Fox News</td>\n",
       "      <td>News &amp; Politics</td>\n",
       "      <td>none</td>\n",
       "      <td>39517</td>\n",
       "      <td>498</td>\n",
       "      <td>0</td>\n",
       "      <td>282</td>\n",
       "      <td>2020-03-16 18:25:52</td>\n",
       "      <td>Fox News Channel,Fox News,News,FNC,harris faul...</td>\n",
       "      <td>350</td>\n",
       "      <td>hd</td>\n",
       "      <td>True</td>\n",
       "      <td>https://i.ytimg.com/vi/xhpqX1NbusQ/default.jpg</td>\n",
       "      <td>https://www.youtube.com/watch?v=xhpqX1NbusQ</td>\n",
       "      <td>2020-03-11</td>\n",
       "      <td>2020-03</td>\n",
       "      <td>2020</td>\n",
       "    </tr>\n",
       "  </tbody>\n",
       "</table>\n",
       "</div>"
      ],
      "text/plain": [
       "      video_id                channel_id  \\\n",
       "0  d1eEWihvwpQ  UCXIJgqnII2ZOINSWNOGFThA   \n",
       "1  0pkwjVhq230  UCXIJgqnII2ZOINSWNOGFThA   \n",
       "2  zwX5z_BvaN4  UCXIJgqnII2ZOINSWNOGFThA   \n",
       "3  6G_-qe0iMBs  UCXIJgqnII2ZOINSWNOGFThA   \n",
       "4  xhpqX1NbusQ  UCXIJgqnII2ZOINSWNOGFThA   \n",
       "\n",
       "                                      video_title channel_title  \\\n",
       "0    who declares coronavirus outbreak a pandemic      Fox News   \n",
       "1  coronavirus pandemic questions answered  part       Fox News   \n",
       "2  coronavirus pandemic questions answered  part       Fox News   \n",
       "3  coronavirus pandemic questions answered  part       Fox News   \n",
       "4  coronavirus pandemic questions answered  part       Fox News   \n",
       "\n",
       "     category_name live_upcoming_none  view_count  like_count  dislike_count  \\\n",
       "0  News & Politics               none      457860        3617              0   \n",
       "1  News & Politics               none       45006         415              0   \n",
       "2  News & Politics               none       43193         634              0   \n",
       "3  News & Politics               none       41458         397              0   \n",
       "4  News & Politics               none       39517         498              0   \n",
       "\n",
       "   comment_count        published_at  \\\n",
       "0           1901 2020-03-11 16:50:56   \n",
       "1            124 2020-03-16 18:18:47   \n",
       "2            179 2020-03-16 18:12:18   \n",
       "3            170 2020-03-16 18:24:00   \n",
       "4            282 2020-03-16 18:25:52   \n",
       "\n",
       "                                                tags  duration definition  \\\n",
       "0  fox news alert,breaking news,fox,news,fox news...         0         hd   \n",
       "1  Fox News Channel,Fox News,News,FNC,harris faul...       251         hd   \n",
       "2  Fox News Channel,Fox News,News,FNC,outnumbered...       453         hd   \n",
       "3  Fox News Channel,Fox News,News,FNC,harris faul...       261         hd   \n",
       "4  Fox News Channel,Fox News,News,FNC,harris faul...       350         hd   \n",
       "\n",
       "   caption                                       thumbnail  \\\n",
       "0     True  https://i.ytimg.com/vi/d1eEWihvwpQ/default.jpg   \n",
       "1     True  https://i.ytimg.com/vi/0pkwjVhq230/default.jpg   \n",
       "2     True  https://i.ytimg.com/vi/zwX5z_BvaN4/default.jpg   \n",
       "3     True  https://i.ytimg.com/vi/6G_-qe0iMBs/default.jpg   \n",
       "4     True  https://i.ytimg.com/vi/xhpqX1NbusQ/default.jpg   \n",
       "\n",
       "                                           url published_at_week  \\\n",
       "0  https://www.youtube.com/watch?v=d1eEWihvwpQ        2020-03-10   \n",
       "1  https://www.youtube.com/watch?v=0pkwjVhq230        2020-03-11   \n",
       "2  https://www.youtube.com/watch?v=zwX5z_BvaN4        2020-03-11   \n",
       "3  https://www.youtube.com/watch?v=6G_-qe0iMBs        2020-03-11   \n",
       "4  https://www.youtube.com/watch?v=xhpqX1NbusQ        2020-03-11   \n",
       "\n",
       "  published_at_month published_at_year  \n",
       "0            2020-03              2020  \n",
       "1            2020-03              2020  \n",
       "2            2020-03              2020  \n",
       "3            2020-03              2020  \n",
       "4            2020-03              2020  "
      ]
     },
     "execution_count": 13,
     "metadata": {},
     "output_type": "execute_result"
    }
   ],
   "source": [
    "videos.head()"
   ]
  },
  {
   "cell_type": "markdown",
   "id": "c138ac16-493b-41f2-8493-a4a598b2e5f4",
   "metadata": {
    "tags": []
   },
   "source": [
    "### E. Analyze the Videos and Comments\n",
    "\n",
    "Please note you must **discuss your observations** for each question, in addition to the python code. "
   ]
  },
  {
   "cell_type": "markdown",
   "id": "b8830393-f4f0-4f1b-bdc6-2c9fdd9a740d",
   "metadata": {
    "tags": []
   },
   "source": [
    "#### E.1. Analyze the Videos and Comments - Part 1\n",
    "* Choose **(only) 2** of the following questions (E.1.1 to E.1.7) and write Python code to answer them. "
   ]
  },
  {
   "cell_type": "markdown",
   "id": "9c4364cc-aaf3-42c8-8421-643ea66c32ef",
   "metadata": {},
   "source": [
    "##### E.1.1 Compare the distributions of the number of views, likes, and comments for the videos. Use visualization and discuss your observations. Your visualization must include three subplots, one for each variable (number of views, number of likes, number of comments), and each subplot must display a histogram of the respective variable overlayed by a kernel density function. Additionally, your visualization must have proper labels for the x and y axes, as well as a title for each subplot."
   ]
  },
  {
   "cell_type": "code",
   "execution_count": 14,
   "id": "dc13cf01-36ca-49ba-8b05-2ff9a41aafa5",
   "metadata": {
    "tags": []
   },
   "outputs": [],
   "source": [
    "# Write your code here:\n",
    "\n",
    "# Define the column names for which we want to create the histograms\n",
    "\n",
    "# Create a figure with three subplots using a 1x3 grid\n",
    "\n",
    "# Loop over the columns and plot a histogram on each subplot\n",
    "\n",
    "# Customize and display the plot\n"
   ]
  },
  {
   "cell_type": "raw",
   "id": "51e618e6-1e82-4d9e-a35b-b495f5d3b812",
   "metadata": {},
   "source": [
    "Discuss your observations here:\n",
    "\n",
    "Observation 1: \n",
    "\n",
    "Observation 2: \n",
    "\n",
    "..."
   ]
  },
  {
   "cell_type": "markdown",
   "id": "632ed5eb-fce3-4183-9a16-6101ae3ffdf1",
   "metadata": {},
   "source": [
    "##### E.1.2. What is the total number of views, likes, and comments for the videos published by different news publishers (channels)? Use visualization to compare these totals across the channels; discuss your observations. Your visualization should include three subplots, one for each variable (total number of views, total number of likes, and total number of comments). Additionally, your visualization should have appropriate labels for the x and y axes, as well as a title for each subplot."
   ]
  },
  {
   "cell_type": "code",
   "execution_count": 15,
   "id": "21b75f1e-f5f1-4a14-b8ea-8f3116df24ba",
   "metadata": {
    "tags": []
   },
   "outputs": [
    {
     "data": {
      "image/png": "[encoded data removed]",
      "text/plain": [
       "<Figure size 1500x500 with 3 Axes>"
      ]
     },
     "metadata": {},
     "output_type": "display_data"
    }
   ],
   "source": [
    "\n",
    "# Calculating the total views, likes, and comments for each channel\n",
    "grouped_data = videos.groupby('channel_title')[['view_count','like_count','comment_count']].sum().reset_index()\n",
    "grouped_data.head()\n",
    "\n",
    "\n",
    "# Here i create the plot\n",
    "fig,axis = plt.subplots(1,3, figsize =(15,5))\n",
    "\n",
    "#Create the list, titles, and colors that we want.\n",
    "\n",
    "#This can also be done with list conversion.\n",
    "columns = ['view_count', 'like_count', 'comment_count']\n",
    "titles = ['Total views across reporters', 'Total likes across reporters', 'Total comments across reporters']\n",
    "colors = ['red', 'green', 'blue']\n",
    "\n",
    "\n",
    "# Now wen want to plot out data\n",
    "for i, col in enumerate(columns):\n",
    "    axis[i].bar(grouped_data['channel_title'], grouped_data[col], color=colors[i])\n",
    "    axis[i].set_title(titles[i])\n",
    "    axis[i].set_xlabel('Reporter')\n",
    "    axis[i].set_ylabel('Count')\n",
    "    axis[i].tick_params(axis='x', rotation=45) # Rotate x-axis labels for better readability\n",
    "\n",
    "# Adjust layout and display the plot\n",
    "plt.tight_layout()\n",
    "plt.show()"
   ]
  },
  {
   "cell_type": "code",
   "execution_count": 16,
   "id": "f67d9dd8",
   "metadata": {},
   "outputs": [
    {
     "data": {
      "text/html": [
       "<div>\n",
       "<style scoped>\n",
       "    .dataframe tbody tr th:only-of-type {\n",
       "        vertical-align: middle;\n",
       "    }\n",
       "\n",
       "    .dataframe tbody tr th {\n",
       "        vertical-align: top;\n",
       "    }\n",
       "\n",
       "    .dataframe thead th {\n",
       "        text-align: right;\n",
       "    }\n",
       "</style>\n",
       "<table border=\"1\" class=\"dataframe\">\n",
       "  <thead>\n",
       "    <tr style=\"text-align: right;\">\n",
       "      <th></th>\n",
       "      <th>channel_title</th>\n",
       "      <th>view_count</th>\n",
       "      <th>like_count</th>\n",
       "      <th>comment_count</th>\n",
       "    </tr>\n",
       "  </thead>\n",
       "  <tbody>\n",
       "    <tr>\n",
       "      <th>0</th>\n",
       "      <td>BBC News</td>\n",
       "      <td>10934026</td>\n",
       "      <td>88157</td>\n",
       "      <td>31787</td>\n",
       "    </tr>\n",
       "    <tr>\n",
       "      <th>1</th>\n",
       "      <td>CNN</td>\n",
       "      <td>28726808</td>\n",
       "      <td>242851</td>\n",
       "      <td>130763</td>\n",
       "    </tr>\n",
       "    <tr>\n",
       "      <th>2</th>\n",
       "      <td>Fox News</td>\n",
       "      <td>10729554</td>\n",
       "      <td>143640</td>\n",
       "      <td>77532</td>\n",
       "    </tr>\n",
       "    <tr>\n",
       "      <th>3</th>\n",
       "      <td>MSNBC</td>\n",
       "      <td>7994186</td>\n",
       "      <td>62616</td>\n",
       "      <td>43843</td>\n",
       "    </tr>\n",
       "  </tbody>\n",
       "</table>\n",
       "</div>"
      ],
      "text/plain": [
       "  channel_title  view_count  like_count  comment_count\n",
       "0      BBC News    10934026       88157          31787\n",
       "1           CNN    28726808      242851         130763\n",
       "2      Fox News    10729554      143640          77532\n",
       "3         MSNBC     7994186       62616          43843"
      ]
     },
     "execution_count": 16,
     "metadata": {},
     "output_type": "execute_result"
    }
   ],
   "source": [
    "grouped_data.head()"
   ]
  },
  {
   "cell_type": "raw",
   "id": "65fa9e6c-2f65-400f-b1ca-dbe6ef814926",
   "metadata": {
    "vscode": {
     "languageId": "raw"
    }
   },
   "source": [
    "Briefly discuss your observations here:\n",
    "\n",
    "Observation 1: \n",
    "As we can see, in terms of views, comments, and likes, CNN is the most successful reporter. This visualization may does not consider\n",
    "negative reviews and dislikes, however in terms of sheer publicity, CNN is dominating.\n",
    "\n",
    "Observation 2:\n",
    "In terms of total likes and comments, there seems to be a relationship. As the total likes graph and the total comments graph\n",
    "look very very similar, it indicates that there is a relationship between the two. This could be explored further with analysis. \n",
    "\n",
    "..."
   ]
  },
  {
   "cell_type": "markdown",
   "id": "b5ccacff-ad00-4e88-883d-b887719405fc",
   "metadata": {},
   "source": [
    "##### E.1.3. How has the number of comments changed over time? Use visualization to answer this question and annotate at least three major events related to Covid-19 (e.g., WHO declares pandemic) on your plot. Additionally, analyze the plot and try to identify any relationship between these events and the changes in the number of comments; discuss your observations."
   ]
  },
  {
   "cell_type": "code",
   "execution_count": 17,
   "id": "2527da09-a38b-4fb2-87f2-ca9fda274070",
   "metadata": {
    "tags": []
   },
   "outputs": [],
   "source": [
    "# Write your code here:\n",
    "\n",
    "# Create a figure and an axes object \n",
    "\n",
    "# Group the comments by week \n",
    "\n",
    "# Plot comments_by_week \n",
    "\n",
    "# Annonate the major events on the plot ..\n",
    "\n",
    "# Customize and display the plot"
   ]
  },
  {
   "cell_type": "raw",
   "id": "a0a75ba9-cbda-4a02-acc5-0012c187d82a",
   "metadata": {},
   "source": [
    "Briefly discuss your observations here:\n",
    "\n",
    "Observation 1: \n",
    "\n",
    "Observation 2: \n",
    "\n",
    "..."
   ]
  },
  {
   "cell_type": "markdown",
   "id": "0e9963eb-5e4d-4db4-992c-0e82a8324a0c",
   "metadata": {
    "tags": []
   },
   "source": [
    "##### E.1.4. How are the parent comments' likes distributed across different news publishers (channels)? Visualize the distributions using a violin plot and discuss your observations.\n",
    "\n",
    "* A violin plot is a type of data visualization that combines the features of a box plot and a kernel density plot. It is used to show the distribution of a dataset, and provides information about the underlying data. The thickness of a violin plot represents the density of data points in that area of the plot. Thicker areas indicate a higher density of data points, while thinner areas indicate a lower density of data points. "
   ]
  },
  {
   "cell_type": "code",
   "execution_count": 18,
   "id": "b3bdda83-8418-4232-ad78-79d00d9ddc0c",
   "metadata": {
    "tags": []
   },
   "outputs": [],
   "source": [
    "# Write your code here:\n",
    "\n",
    "# Assign the `videos_comments` DataFrame to a new variable `df`\n",
    "\n",
    "# Create a new column in the `df` DataFrame to indicate whether a comment is a parent or not\n",
    "\n",
    "# Filter out non-parent comments using a boolean mask created from the `is_parent` column\n",
    "\n",
    "# Create a violin plot of the data with a limited y-axis range\n",
    "\n",
    "# Customize and display the plot"
   ]
  },
  {
   "cell_type": "raw",
   "id": "68270418-2e63-451d-81e8-74fcb80ae840",
   "metadata": {},
   "source": [
    "Briefly discuss your observations here:\n",
    "\n",
    "Observation 1: \n",
    "\n",
    "Observation 2: \n",
    "\n",
    "..."
   ]
  },
  {
   "cell_type": "markdown",
   "id": "f3c8274c-35c1-4fad-b45d-49fd8e4a74b1",
   "metadata": {},
   "source": [
    "##### E.1.5. How are the comment replies distributed over time for different news publishers (channels)? Visualize the distributions using probability density functions."
   ]
  },
  {
   "cell_type": "code",
   "execution_count": 19,
   "id": "ac3a3af2-e2ea-485b-8c1b-c330f76a28fe",
   "metadata": {
    "tags": []
   },
   "outputs": [],
   "source": [
    "# Write your code here:\n",
    "\n",
    "# Group the comments by channel title\n",
    "\n",
    "# Create a figure and axis object using the `subplots()` method \n",
    "\n",
    "# Loop through the channels and plot the probability density function for each\n",
    "\n",
    "# Customize and display the plot"
   ]
  },
  {
   "cell_type": "raw",
   "id": "53cd53a4-9b5e-40ba-ad3b-619636cf7599",
   "metadata": {},
   "source": [
    "Briefly discuss your observations here:\n",
    "\n",
    "Observation 1: \n",
    "\n",
    "Observation 2: \n",
    "\n",
    "..."
   ]
  },
  {
   "cell_type": "markdown",
   "id": "a9c85e31-0b6c-452c-bdc2-d95a1a47ac8e",
   "metadata": {},
   "source": [
    "##### E.1.6. What are the top 5 videos with the highest ratio of likes to views? Display the URLs of these videos as well as their corresponding like counts, view counts, and like to view ratios. Discuss your observations. "
   ]
  },
  {
   "cell_type": "code",
   "execution_count": 20,
   "id": "775ff698-1fc1-4678-b2a0-7d860262ec08",
   "metadata": {
    "tags": []
   },
   "outputs": [
    {
     "data": {
      "image/png": "[encoded data removed]",
      "text/plain": [
       "<Figure size 700x500 with 1 Axes>"
      ]
     },
     "metadata": {},
     "output_type": "display_data"
    }
   ],
   "source": [
    "# Write your code here:\n",
    "# Group the urls by their view counts and like counts\n",
    "grouped = videos.groupby('url')[['view_count', 'like_count']].sum().reset_index()\n",
    "\n",
    "# Remove some obvious outliers\n",
    "grouped = grouped[(grouped['like_count'] > 5) & (grouped['view_count'] > 300)]\n",
    "\n",
    "# Here i calculate the likes to view ratio\n",
    "grouped['likes:views'] = grouped['like_count'] / grouped['view_count']\n",
    "\n",
    "\n",
    "#Here i sort the values in descending order so i can grab the Top 5\n",
    "grouped.sort_values(by = 'likes:views', ascending=False)\n",
    "\n",
    "\n",
    "\n",
    "#Here i selected the top 5 videos with the highest likes to views\n",
    "top_5 = grouped.head(5)\n",
    "\n",
    "\n",
    "# Here i create the plots\n",
    "fig, axis = plt.subplots(1, figsize=(7, 5))\n",
    "\n",
    "axis.bar(top_5['url'], top_5['likes:views'], color='green')\n",
    "axis.set_title('Likes to Views Ratio by URL')\n",
    "#axis.set_xlabel('URL')\n",
    "axis.set_ylabel('Likes to Views Ratio')\n",
    "axis.tick_params(axis='x', rotation=45)\n",
    "\n",
    "\n",
    "plt.show()"
   ]
  },
  {
   "cell_type": "code",
   "execution_count": 21,
   "id": "2ac8bda4",
   "metadata": {},
   "outputs": [
    {
     "data": {
      "text/html": [
       "<div>\n",
       "<style scoped>\n",
       "    .dataframe tbody tr th:only-of-type {\n",
       "        vertical-align: middle;\n",
       "    }\n",
       "\n",
       "    .dataframe tbody tr th {\n",
       "        vertical-align: top;\n",
       "    }\n",
       "\n",
       "    .dataframe thead th {\n",
       "        text-align: right;\n",
       "    }\n",
       "</style>\n",
       "<table border=\"1\" class=\"dataframe\">\n",
       "  <thead>\n",
       "    <tr style=\"text-align: right;\">\n",
       "      <th></th>\n",
       "      <th>url</th>\n",
       "      <th>view_count</th>\n",
       "      <th>like_count</th>\n",
       "      <th>likes:views</th>\n",
       "    </tr>\n",
       "  </thead>\n",
       "  <tbody>\n",
       "    <tr>\n",
       "      <th>0</th>\n",
       "      <td>https://www.youtube.com/watch?v=-2h2bQYO-0E</td>\n",
       "      <td>98516</td>\n",
       "      <td>1114</td>\n",
       "      <td>0.011308</td>\n",
       "    </tr>\n",
       "    <tr>\n",
       "      <th>1</th>\n",
       "      <td>https://www.youtube.com/watch?v=-r6mUnerPtc</td>\n",
       "      <td>75642</td>\n",
       "      <td>1155</td>\n",
       "      <td>0.015269</td>\n",
       "    </tr>\n",
       "    <tr>\n",
       "      <th>2</th>\n",
       "      <td>https://www.youtube.com/watch?v=-r_C-QsWEak</td>\n",
       "      <td>165355</td>\n",
       "      <td>1323</td>\n",
       "      <td>0.008001</td>\n",
       "    </tr>\n",
       "    <tr>\n",
       "      <th>3</th>\n",
       "      <td>https://www.youtube.com/watch?v=02Wi5GSkdNk</td>\n",
       "      <td>903124</td>\n",
       "      <td>7549</td>\n",
       "      <td>0.008359</td>\n",
       "    </tr>\n",
       "    <tr>\n",
       "      <th>4</th>\n",
       "      <td>https://www.youtube.com/watch?v=0GylbOHOujQ</td>\n",
       "      <td>992560</td>\n",
       "      <td>7582</td>\n",
       "      <td>0.007639</td>\n",
       "    </tr>\n",
       "  </tbody>\n",
       "</table>\n",
       "</div>"
      ],
      "text/plain": [
       "                                           url  view_count  like_count  \\\n",
       "0  https://www.youtube.com/watch?v=-2h2bQYO-0E       98516        1114   \n",
       "1  https://www.youtube.com/watch?v=-r6mUnerPtc       75642        1155   \n",
       "2  https://www.youtube.com/watch?v=-r_C-QsWEak      165355        1323   \n",
       "3  https://www.youtube.com/watch?v=02Wi5GSkdNk      903124        7549   \n",
       "4  https://www.youtube.com/watch?v=0GylbOHOujQ      992560        7582   \n",
       "\n",
       "   likes:views  \n",
       "0     0.011308  \n",
       "1     0.015269  \n",
       "2     0.008001  \n",
       "3     0.008359  \n",
       "4     0.007639  "
      ]
     },
     "execution_count": 21,
     "metadata": {},
     "output_type": "execute_result"
    }
   ],
   "source": [
    "top_5.head()"
   ]
  },
  {
   "cell_type": "raw",
   "id": "0586311b-2ec9-4d0a-a8cc-fef561f44ac8",
   "metadata": {
    "vscode": {
     "languageId": "raw"
    }
   },
   "source": [
    "Briefly discuss your observations here:\n",
    "\n",
    "Observation 1: \n",
    "I created some plots of this even thought it was not required. As we can see from the plots and the top5.head\n",
    "the amount of likes is not a direct relation to the amount of views. We can see that the second link has best\n",
    "like to view ratio (even though it has fewer views than than some of the others)\n",
    "\n",
    "Observation 2:\n",
    "Overall, all of the videos/reporters have a very very low interaction rate when it comes to likes and views. It seems that \n",
    "most views do not leave a comment or a link, they just view the video and leave.\n",
    "..."
   ]
  },
  {
   "cell_type": "markdown",
   "id": "4164d089-38cc-4e93-a329-d7ebb6873b9d",
   "metadata": {},
   "source": [
    "##### E.1.7. Is there any relationship between the average length of the comments on a video and its like count? Visualize the relationship and discuss your observations. Exclude from your analysis the videos with no comments."
   ]
  },
  {
   "cell_type": "code",
   "execution_count": 22,
   "id": "2ba20c52-3265-4a2e-ac26-209e47038cb8",
   "metadata": {
    "tags": []
   },
   "outputs": [],
   "source": [
    "# Write your code here:\n",
    "\n",
    "# Calculate the average comment length and like count for each video \n",
    "\n",
    "# Plot the relationship between average comment length and like count\n",
    "\n",
    "# Customize and display the plot"
   ]
  },
  {
   "cell_type": "raw",
   "id": "a8fd5af1-ecde-4c6e-83a2-f2ff1329a305",
   "metadata": {},
   "source": [
    "Briefly discuss your observations here:\n",
    "\n",
    "Observation 1: \n",
    "\n",
    "Observation 2:\n",
    "\n",
    "..."
   ]
  },
  {
   "cell_type": "markdown",
   "id": "a6c4d9bb-3efb-4ac8-9ea0-0a9a2a908c34",
   "metadata": {
    "tags": []
   },
   "source": [
    "#### E.2. Analyze the Videos and Comments - Part 2\n",
    "* Choose **(only) 1** of the following questions (E.2.1 to E.2.7) and write Python code to answer them. "
   ]
  },
  {
   "cell_type": "markdown",
   "id": "f0d374eb-e02d-43c3-b955-80c4b8b69c87",
   "metadata": {},
   "source": [
    "##### E.2.1. What are the top 10 comments with the most replies? For each comment, display the Channel Title, Comment text, and the total number of replies that comment has received. Discuss your observations."
   ]
  },
  {
   "cell_type": "code",
   "execution_count": 23,
   "id": "ce9195c6-6ab7-4e89-a4e8-a37b97edc7bc",
   "metadata": {
    "tags": []
   },
   "outputs": [],
   "source": [
    "# Write your code here:\n",
    "\n",
    "# Get the total number of replies to each comment\n",
    "\n",
    "# Select comments without a parent comment_id (i.e., root comments)\n",
    "\n",
    "# Get the top 10 root comments with the most replies\n",
    "\n",
    "# Display the 'comment_text', 'channel_title', and 'reply_count' of the top 10 root comments\n"
   ]
  },
  {
   "cell_type": "raw",
   "id": "7ee86ca8-607b-49bf-9900-12a350fd40d7",
   "metadata": {},
   "source": [
    "Briefly discuss your observations here:\n",
    "\n",
    "Observation 1: \n",
    "\n",
    "Observation 2:\n",
    "\n",
    "..."
   ]
  },
  {
   "cell_type": "markdown",
   "id": "9a2cc045-2574-45ee-b26c-de68ff848ef4",
   "metadata": {},
   "source": [
    "##### E.2.2. How does the average length of the comments (in characters) on a video vary with its duration? Analyze this for different news publishers (channels) using visualizations and discuss your observations."
   ]
  },
  {
   "cell_type": "code",
   "execution_count": 24,
   "id": "022220c4-b191-41d7-a961-21f96e4438ac",
   "metadata": {
    "tags": []
   },
   "outputs": [],
   "source": [
    "# Write your code here:\n",
    "\n",
    "# Create a new DataFrame containing only the comments data\n",
    "\n",
    "# Add a new column to the DataFrame to store the length of each comment\n",
    "\n",
    "# Group the comments DataFrame by video_id and calculate the mean comment length for each video\n",
    "\n",
    "# Merge the videos DataFrame with grouped comments DataFrame \n",
    "\n",
    "# Create subplots for each channel\n",
    "\n",
    "# Customize and display the subplots"
   ]
  },
  {
   "cell_type": "raw",
   "id": "7d1c1b10-bf89-4fcf-9715-275be0c529a3",
   "metadata": {},
   "source": [
    "Briefly discuss your observations here:\n",
    "\n",
    "Observation 1: \n",
    "\n",
    "Observation 2:\n",
    "\n",
    "..."
   ]
  },
  {
   "cell_type": "markdown",
   "id": "6668d874-b135-4d7c-8b47-fcd32e75f6ff",
   "metadata": {},
   "source": [
    "##### E.2.3. How has the total number of comments per news publisher (channel) changed over months? Create a visualization to investigate this and discuss your observations. Make sure the outliers have been removed. "
   ]
  },
  {
   "cell_type": "code",
   "execution_count": 25,
   "id": "c5730935-f909-485b-8bcd-cb6e8e31812b",
   "metadata": {
    "tags": []
   },
   "outputs": [],
   "source": [
    "# Write your code here:\n",
    "\n",
    "# Convert the published_at column to a datetime object and extract year and month\n",
    "\n",
    "# Calculate the total number of comments per channel_title and year_month\n",
    "\n",
    "# Remove outliers\n",
    "\n",
    "# Create a pivot table to group the data by year_month and channel_title\n",
    "\n",
    "# Create, customize, and display the plot"
   ]
  },
  {
   "cell_type": "raw",
   "id": "815cbf55-fad1-4f27-9e38-92eb47913c7d",
   "metadata": {},
   "source": [
    "Briefly discuss your observations here:\n",
    "\n",
    "Observation 1: \n",
    "\n",
    "Observation 2:\n",
    "\n",
    "..."
   ]
  },
  {
   "cell_type": "markdown",
   "id": "5e32448b-1880-4a4e-b3f2-7379ea28384e",
   "metadata": {},
   "source": [
    "##### E.2.4. How does the distribution of number of comments and likes vary across different news publishers (channels)? Use visualization to answer this question; discuss your observations. Make sure the outliers have been removed from the visualization. "
   ]
  },
  {
   "cell_type": "code",
   "execution_count": 26,
   "id": "cdb502bc-c9ea-4aa1-b53d-3bd49ff468f2",
   "metadata": {
    "tags": []
   },
   "outputs": [],
   "source": [
    "# Write your code here:\n",
    "\n",
    "# Remove outliers\n",
    "\n",
    "# Create a figure with two subplots\n",
    "\n",
    "# Plot the distribution of comments and likes per news publisher\n",
    "\n",
    "# Customize and display the plots"
   ]
  },
  {
   "cell_type": "raw",
   "id": "c37ef273-1f2c-460a-859c-18fb154193ac",
   "metadata": {},
   "source": [
    "Briefly discuss your observations here:\n",
    "\n",
    "Observation 1: \n",
    "\n",
    "Observation 2:\n",
    "\n",
    "..."
   ]
  },
  {
   "cell_type": "markdown",
   "id": "4e7216eb-1c86-4329-98df-8a8c32121d74",
   "metadata": {},
   "source": [
    "##### E.2.5. Is there a relationship between the duration of a video and receiving a below-average number of comments? Use visualization to answer this question; discuss your observations."
   ]
  },
  {
   "cell_type": "code",
   "execution_count": 27,
   "id": "670ba21c-a22b-40cb-8f3d-7a45ebd3c532",
   "metadata": {
    "tags": []
   },
   "outputs": [
    {
     "data": {
      "image/png": "[encoded data removed]",
      "text/plain": [
       "<Figure size 1000x600 with 1 Axes>"
      ]
     },
     "metadata": {},
     "output_type": "display_data"
    }
   ],
   "source": [
    "\n",
    "# Here i calculate the average ammount of comments between the videos\n",
    "average_comments = videos['comment_count'].mean()\n",
    "\n",
    "# Here i calculate the average duration of each video which we will use later.\n",
    "median_duration = videos['duration'].median()\n",
    "\n",
    "# I then create a column with videos below average comments\n",
    "videos['below_average_comments'] = videos['comment_count'] < average_comments\n",
    "\n",
    "# Here i divide the videos into different catogories, short and long.\n",
    "videos['video_category'] = ['Short' if duration < median_duration else 'Long' for duration in videos['duration']]\n",
    "\n",
    "# Here i calculate how much each category has\n",
    "category_counts = videos.groupby(['video_category', 'below_average_comments']).size().unstack(fill_value=0)\n",
    "\n",
    "#Now we plot the results\n",
    "fig, ax = plt.subplots(figsize=(10, 6))\n",
    "\n",
    "category_counts.plot(kind='bar', stacked=True, ax=ax, color=['lightblue', 'lightcoral'])\n",
    "\n",
    "\n",
    "ax.set_title('Comparison of Short and Long Videos with Below-Average Comments')\n",
    "ax.set_xlabel('Video Category (Short vs Long)')\n",
    "ax.set_ylabel('% Of Total Videos')\n",
    "ax.legend(['Above Average Comments', 'Below Average Comments'])\n",
    "\n",
    "\n",
    "plt.tight_layout()\n",
    "plt.show()\n",
    "\n",
    "\n"
   ]
  },
  {
   "cell_type": "raw",
   "id": "040b34ae-318d-4dbf-ab4f-14cff752eb7a",
   "metadata": {
    "vscode": {
     "languageId": "raw"
    }
   },
   "source": [
    "Briefly discuss your observations here:\n",
    "\n",
    "Observation 1: \n",
    "Based upon our analysis, we can see that short videos have more below average comments then longer videos, this may be\n",
    "due to may reasons, however further research would have to be conducted to find out why.\n",
    "\n",
    "Observation 2:\n",
    "We can see that based upon the number of the videos around 40% of them have above average comments.\n",
    "On the other hand, 80% of short videos have below average comments. This means that long videos are twice as likely\n",
    "to have more comments than average. We some of the short videos and long videos to see if it is a quality issue.\n",
    "\n",
    "..."
   ]
  },
  {
   "cell_type": "markdown",
   "id": "276735e1-305d-4372-82b4-0b9fa4211b09",
   "metadata": {},
   "source": [
    "##### E.2.6. For a comment, Response Time (in seconds) is defined as the period between the time the comment is posted and the time the video is published. Use visualization to compare the distribution of the comment response times for different news publishers (channels). How does the median response time and interquartile range vary across the news publishers? discuss your observations. "
   ]
  },
  {
   "cell_type": "code",
   "execution_count": 28,
   "id": "4e50bd99-98b3-4037-8e35-473de2c21b0f",
   "metadata": {
    "tags": []
   },
   "outputs": [],
   "source": [
    "# Write your code here:\n",
    "\n",
    "# Calculate response time for each comment\n",
    "\n",
    "# Visualize the median, interquartile range, and outliers for each channel\n",
    "\n",
    "# Customize and display the plot"
   ]
  },
  {
   "cell_type": "raw",
   "id": "3c962848-5e03-46c3-8f3f-b96b1cbf3e59",
   "metadata": {},
   "source": [
    "Briefly discuss your observations here:\n",
    "\n",
    "Observation 1: \n",
    "\n",
    "Observation 2:\n",
    "\n",
    "..."
   ]
  },
  {
   "cell_type": "markdown",
   "id": "cd8cb03c-620e-4370-98ab-e3ea92d1707a",
   "metadata": {
    "tags": []
   },
   "source": [
    "##### E.2.7. Compare the average number of videos published per week across different news publishers (channels)? Use visualization and discuss your observations. "
   ]
  },
  {
   "cell_type": "code",
   "execution_count": 29,
   "id": "078eb518-f319-463a-a93b-16b3e900b828",
   "metadata": {
    "tags": []
   },
   "outputs": [],
   "source": [
    "# Write your code here:\n",
    "\n",
    "# Group by channel_title and resample by week, counting the number of videos\n",
    "\n",
    "# Calculate the average number of videos published per week for each channel\n",
    "\n",
    "# Customize and display the plot"
   ]
  },
  {
   "cell_type": "raw",
   "id": "43b0346c-66a1-4631-abbc-a8ec9c546341",
   "metadata": {},
   "source": [
    "Briefly discuss your observations here:\n",
    "\n",
    "Observation 1: \n",
    "\n",
    "Observation 2:\n",
    "\n",
    "..."
   ]
  },
  {
   "cell_type": "code",
   "execution_count": 30,
   "id": "35bbfd9b-4cd8-45c8-9a65-581a784eb284",
   "metadata": {},
   "outputs": [
    {
     "name": "stdout",
     "output_type": "stream",
     "text": [
      " videos dataframe: video_id                          object\n",
      "channel_id                        object\n",
      "video_title                       object\n",
      "channel_title                     object\n",
      "category_name                     object\n",
      "live_upcoming_none                object\n",
      "view_count                         int64\n",
      "like_count                         int64\n",
      "dislike_count                      int64\n",
      "comment_count                      int64\n",
      "published_at              datetime64[ns]\n",
      "tags                              object\n",
      "duration                           int64\n",
      "definition                        object\n",
      "caption                             bool\n",
      "thumbnail                         object\n",
      "url                               object\n",
      "published_at_week                 object\n",
      "published_at_month                object\n",
      "published_at_year                 object\n",
      "below_average_comments              bool\n",
      "video_category                    object\n",
      "dtype: object \n",
      "\n",
      " comments dataframe: video_id                      object\n",
      "comment_id                    object\n",
      "comment_text                  object\n",
      "comment_author                object\n",
      "comment_date          datetime64[ns]\n",
      "comment_like_count             int64\n",
      "parent_comment_id             object\n",
      "comment_date_week             object\n",
      "comment_date_month            object\n",
      "comment_date_year             object\n",
      "dtype: object \n",
      "\n",
      "videos_comments dataframe: video_id                          object\n",
      "channel_id                        object\n",
      "video_title                       object\n",
      "channel_title                     object\n",
      "category_name                     object\n",
      "live_upcoming_none                object\n",
      "view_count                         int64\n",
      "like_count                         int64\n",
      "dislike_count                      int64\n",
      "comment_count                      int64\n",
      "published_at              datetime64[ns]\n",
      "tags                              object\n",
      "duration                           int64\n",
      "definition                        object\n",
      "caption                             bool\n",
      "thumbnail                         object\n",
      "url                               object\n",
      "published_at_week                 object\n",
      "published_at_month                object\n",
      "published_at_year                 object\n",
      "below_average_comments              bool\n",
      "video_category                    object\n",
      "comment_id                        object\n",
      "comment_text                      object\n",
      "comment_author                    object\n",
      "comment_date              datetime64[ns]\n",
      "comment_like_count                 int64\n",
      "parent_comment_id                 object\n",
      "comment_date_week                 object\n",
      "comment_date_month                object\n",
      "comment_date_year                 object\n",
      "dtype: object \n",
      "\n"
     ]
    }
   ],
   "source": [
    "print(f\" videos dataframe: {videos.dtypes} \\n\")\n",
    "print(f\" comments dataframe: {comments.dtypes} \\n\")\n",
    "print(f\"videos_comments dataframe: {pd.merge(videos,comments, how='inner', on ='video_id').dtypes} \\n\")"
   ]
  },
  {
   "cell_type": "code",
   "execution_count": null,
   "id": "8142831e-50ea-4601-9580-270e2a1787f4",
   "metadata": {},
   "outputs": [],
   "source": []
  }
 ],
 "metadata": {
  "kernelspec": {
   "display_name": "Python 3",
   "language": "python",
   "name": "python3"
  },
  "language_info": {
   "codemirror_mode": {
    "name": "ipython",
    "version": 3
   },
   "file_extension": ".py",
   "mimetype": "text/x-python",
   "name": "python",
   "nbconvert_exporter": "python",
   "pygments_lexer": "ipython3",
   "version": "3.13.2"
  }
 },
 "nbformat": 4,
 "nbformat_minor": 5
}
