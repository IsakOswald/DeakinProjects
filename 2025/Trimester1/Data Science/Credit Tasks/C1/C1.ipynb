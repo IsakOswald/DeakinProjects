{
 "cells": [
  {
   "cell_type": "markdown",
   "metadata": {
    "tags": []
   },
   "source": [
    "# **Task C1** \n",
    "## Analyzing the Avocado Data\n",
    "\n",
    "##### This task uses the avocado dataset. The dataset contains historical data on avocado prices and sales volume in multiple U.S. markets. One of the columns in this dataset, Unnamed: 0, contains sequential numbers that are irrelevant to analyzing this data. Three of the other columns contain sales for PLU (price look-up) codes 4046, 4225, and 4770. These columns will not be used in this task. If you review the data, you’ll see that some of the regions overlap. For example, one of the regions is the entire U.S., and all of the other regions are parts of the U.S. Because of that, you would need to review this data carefully before determining the best way to analyze it. For the purposes of this task though, the overlapping regions won’t be taken into consideration.\n",
    "\n",
    "##### https://www.kaggle.com/neuromusic/avocado-prices\n",
    "\n",
    "<img src=\"avocado-logo.png\" alt=\"SIT112 Avocado!\" width=\"1800\" height=\"200\">\n",
    "\n",
    "\n"
   ]
  },
  {
   "cell_type": "markdown",
   "metadata": {},
   "source": [
    "### A. Instructions\n",
    "\n",
    "1. Make sure you have completed Task P1 before working on this task. \n",
    "2. Complete the task based on the comments and hints provided in the following sections.   \n",
    "3. Complete the TaskCompletionReport from. \n",
    "4. Before submission, please make sure you have executed all the cells in your jupyter notebook without any error; otherwise, your submission may not be flagged as complete. \n",
    "5. Submit (1) the TaskCompletionReport as a \"PDF\" file and (2) your solution (code) as an \"ipynb\" file (do not zip/combine them). You can do this by the end of Week 12, but feedback will only be provided for submissions received by 11 AM on the due date. <font color=\"red\">Please do not include the dataset in your submission. </font>\n",
    "6. The workshops are the primary venue for you to seek help if you need any clarification/assitance. The tutors are there to help you complete and submit the tasks. Please avoid emailing your code or screenshots to the tutors outside workshop hours. \n",
    "7. Consider using online resources such as ChatGPT to strenghten your undertanding of the task. \n",
    "\n",
    "Good luck :)"
   ]
  },
  {
   "cell_type": "markdown",
   "metadata": {},
   "source": [
    "### B. Write Python code that performs (answers) the following operations (questions) "
   ]
  },
  {
   "cell_type": "code",
   "execution_count": 37,
   "metadata": {
    "tags": []
   },
   "outputs": [],
   "source": [
    "import pandas as pd"
   ]
  },
  {
   "cell_type": "markdown",
   "metadata": {},
   "source": [
    "##### 1. Read the data from the CSV file into a DataFrame."
   ]
  },
  {
   "cell_type": "code",
   "execution_count": 38,
   "metadata": {},
   "outputs": [
    {
     "name": "stdout",
     "output_type": "stream",
     "text": [
      "<class 'pandas.core.frame.DataFrame'>\n",
      "RangeIndex: 18249 entries, 0 to 18248\n",
      "Data columns (total 14 columns):\n",
      " #   Column        Non-Null Count  Dtype  \n",
      "---  ------        --------------  -----  \n",
      " 0   Unnamed: 0    18249 non-null  int64  \n",
      " 1   Date          18249 non-null  object \n",
      " 2   AveragePrice  18249 non-null  float64\n",
      " 3   Total Volume  18249 non-null  float64\n",
      " 4   4046          18249 non-null  float64\n",
      " 5   4225          18249 non-null  float64\n",
      " 6   4770          18249 non-null  float64\n",
      " 7   Total Bags    18249 non-null  float64\n",
      " 8   Small Bags    18249 non-null  float64\n",
      " 9   Large Bags    18249 non-null  float64\n",
      " 10  XLarge Bags   18249 non-null  float64\n",
      " 11  type          18249 non-null  object \n",
      " 12  year          18249 non-null  int64  \n",
      " 13  region        18249 non-null  object \n",
      "dtypes: float64(9), int64(2), object(3)\n",
      "memory usage: 1.9+ MB\n"
     ]
    }
   ],
   "source": [
    "# write your code here\n",
    "file = pd.read_csv(\"avocado.csv\")\n",
    "data = file.copy()\n",
    "data.info()\n"
   ]
  },
  {
   "cell_type": "markdown",
   "metadata": {},
   "source": [
    "##### 2. Multiply the Total Volume and AveragePrice columns, and store the result in a new column called EstimatedRevenue. Then, calculate the EstimatedRevenue for each region, sort the resulting data in descending order by EstimatedRevenue, and display the top 5 regions, except TotalUS, with the highest EstimatedRevenue.\n",
    "\n",
    "* Hint: the estimated revenue of region x = sum of the estimated revenues in region x"
   ]
  },
  {
   "cell_type": "code",
   "execution_count": 39,
   "metadata": {},
   "outputs": [
    {
     "data": {
      "text/html": [
       "<div>\n",
       "<style scoped>\n",
       "    .dataframe tbody tr th:only-of-type {\n",
       "        vertical-align: middle;\n",
       "    }\n",
       "\n",
       "    .dataframe tbody tr th {\n",
       "        vertical-align: top;\n",
       "    }\n",
       "\n",
       "    .dataframe thead th {\n",
       "        text-align: right;\n",
       "    }\n",
       "</style>\n",
       "<table border=\"1\" class=\"dataframe\">\n",
       "  <thead>\n",
       "    <tr style=\"text-align: right;\">\n",
       "      <th></th>\n",
       "      <th>region</th>\n",
       "      <th>EstimatedRevenue</th>\n",
       "    </tr>\n",
       "  </thead>\n",
       "  <tbody>\n",
       "    <tr>\n",
       "      <th>6</th>\n",
       "      <td>California</td>\n",
       "      <td>1.121414e+09</td>\n",
       "    </tr>\n",
       "    <tr>\n",
       "      <th>52</th>\n",
       "      <td>West</td>\n",
       "      <td>1.066834e+09</td>\n",
       "    </tr>\n",
       "    <tr>\n",
       "      <th>29</th>\n",
       "      <td>Northeast</td>\n",
       "      <td>9.600079e+08</td>\n",
       "    </tr>\n",
       "    <tr>\n",
       "      <th>45</th>\n",
       "      <td>SouthCentral</td>\n",
       "      <td>8.740593e+08</td>\n",
       "    </tr>\n",
       "    <tr>\n",
       "      <th>46</th>\n",
       "      <td>Southeast</td>\n",
       "      <td>7.036306e+08</td>\n",
       "    </tr>\n",
       "  </tbody>\n",
       "</table>\n",
       "</div>"
      ],
      "text/plain": [
       "          region  EstimatedRevenue\n",
       "6     California      1.121414e+09\n",
       "52          West      1.066834e+09\n",
       "29     Northeast      9.600079e+08\n",
       "45  SouthCentral      8.740593e+08\n",
       "46     Southeast      7.036306e+08"
      ]
     },
     "execution_count": 39,
     "metadata": {},
     "output_type": "execute_result"
    }
   ],
   "source": [
    "# write your code here\n",
    "# multiply the Total Volume and AveragePrice columns to create a new column called EstimatedRevenue\n",
    "data[\"EstimatedRevenue\"] = data[\"Total Volume\"] * data[\"AveragePrice\"]\n",
    "# group the data by region and calculate the total estimated revenue for each region \n",
    "grouped = data.groupby(\"region\")[\"EstimatedRevenue\"].sum().reset_index()\n",
    "# ecxlude TotalUS\n",
    "grouped = grouped[grouped[\"region\"] != \"TotalUS\"]\n",
    "\n",
    "\n",
    "\n",
    "# sort the data in descending order by EstimatedRevenue and display the top 5 regions with the highest revenue\n",
    "grouped = grouped.sort_values([\"EstimatedRevenue\"], ascending=False)\n",
    "grouped.head()\n",
    "\n"
   ]
  },
  {
   "cell_type": "markdown",
   "metadata": {},
   "source": [
    "##### 3. Create a bar plot that shows the mean, median, and standard deviation of the Total Volume of the organic avocados sold in the regions with the highest overall Total Volume from (including) 2017."
   ]
  },
  {
   "cell_type": "code",
   "execution_count": 40,
   "metadata": {},
   "outputs": [
    {
     "data": {
      "image/png": "[encoded data removed]",
      "text/plain": [
       "<Figure size 640x480 with 1 Axes>"
      ]
     },
     "metadata": {},
     "output_type": "display_data"
    }
   ],
   "source": [
    "import matplotlib.pyplot as plt\n",
    "\n",
    "\n",
    "\n",
    "avocado_data = data[(data['type'] == 'organic') & (data['year'] >= 2017) & (data['region'] != 'TotalUS')]\n",
    "\n",
    "region_summary = avocado_data.groupby('region')['Total Volume'].agg(['sum', 'median', 'std'])\n",
    "\n",
    "top_5_regions = region_summary.sort_values(by='sum', ascending=False).head(5)\n",
    "\n",
    "top_regions_data = avocado_data[avocado_data['region'].isin(top_5_regions.index)]\n",
    "\n",
    "\n",
    "\n",
    "region_stats = top_regions_data.groupby('region')['Total Volume'].agg(['mean', 'median', 'std'])\n",
    "\n",
    "\n",
    "region_stats\n",
    "\n",
    "\n",
    "region_stats.plot(kind='bar', y=['mean', 'median', 'std'], rot=0)\n",
    "\n",
    "\n",
    "plt.xlabel(\"Region\")\n",
    "plt.ylabel(\"Total Volume\")\n",
    "plt.title(\"Mean, Median, and Standard Deviation of Organic Avocados (Top 5 Regions)\")\n",
    "plt.legend(title=\"Statistic\")\n",
    "plt.show()\n"
   ]
  },
  {
   "cell_type": "markdown",
   "metadata": {},
   "source": [
    "##### 4. What is the mean and median of AveragePrice for each type of avocado (organic and conventional) in 2018? Be sure to include just the type, MeanPrice, and MedianPrice columns in the results."
   ]
  },
  {
   "cell_type": "code",
   "execution_count": 41,
   "metadata": {},
   "outputs": [
    {
     "data": {
      "text/html": [
       "<div>\n",
       "<style scoped>\n",
       "    .dataframe tbody tr th:only-of-type {\n",
       "        vertical-align: middle;\n",
       "    }\n",
       "\n",
       "    .dataframe tbody tr th {\n",
       "        vertical-align: top;\n",
       "    }\n",
       "\n",
       "    .dataframe thead th {\n",
       "        text-align: right;\n",
       "    }\n",
       "</style>\n",
       "<table border=\"1\" class=\"dataframe\">\n",
       "  <thead>\n",
       "    <tr style=\"text-align: right;\">\n",
       "      <th></th>\n",
       "      <th>mean</th>\n",
       "      <th>median</th>\n",
       "    </tr>\n",
       "    <tr>\n",
       "      <th>type</th>\n",
       "      <th></th>\n",
       "      <th></th>\n",
       "    </tr>\n",
       "  </thead>\n",
       "  <tbody>\n",
       "    <tr>\n",
       "      <th>conventional</th>\n",
       "      <td>1.127886</td>\n",
       "      <td>1.14</td>\n",
       "    </tr>\n",
       "    <tr>\n",
       "      <th>organic</th>\n",
       "      <td>1.567176</td>\n",
       "      <td>1.55</td>\n",
       "    </tr>\n",
       "  </tbody>\n",
       "</table>\n",
       "</div>"
      ],
      "text/plain": [
       "                  mean  median\n",
       "type                          \n",
       "conventional  1.127886    1.14\n",
       "organic       1.567176    1.55"
      ]
     },
     "execution_count": 41,
     "metadata": {},
     "output_type": "execute_result"
    }
   ],
   "source": [
    "# write your code here\n",
    "\n",
    "\n",
    "\n",
    "df = data[((data[\"type\"] == \"organic\") | (data[\"type\"] == \"conventional\")) & (data[\"year\"] == 2018)]\n",
    "\n",
    "\n",
    "\n",
    "df = df.groupby(\"type\")[\"AveragePrice\"].agg([\"mean\", \"median\"])\n",
    "\n",
    "df"
   ]
  },
  {
   "cell_type": "markdown",
   "metadata": {},
   "source": [
    "##### 5. Analyze the consistency of sales for Small Bags, Large Bags, XLarge Bags, and Total Bags of the top 3 avocado producing regions (excluding TotalUS) for each type of avocado over time. \n",
    "\n",
    "##### *To explain consistency of sales, use the coefficient of variation, which is a statistical measure used to determine the consistency or variability of a data set. It is calculated as the ratio of the standard deviation to the mean, expressed as a percentage. Higher values of the coefficient of variation indicate greater variability or inconsistency in the data, while lower values indicate more consistency in the data.* "
   ]
  },
  {
   "cell_type": "code",
   "execution_count": 42,
   "metadata": {},
   "outputs": [
    {
     "data": {
      "text/html": [
       "<div>\n",
       "<style scoped>\n",
       "    .dataframe tbody tr th:only-of-type {\n",
       "        vertical-align: middle;\n",
       "    }\n",
       "\n",
       "    .dataframe tbody tr th {\n",
       "        vertical-align: top;\n",
       "    }\n",
       "\n",
       "    .dataframe thead th {\n",
       "        text-align: right;\n",
       "    }\n",
       "</style>\n",
       "<table border=\"1\" class=\"dataframe\">\n",
       "  <thead>\n",
       "    <tr style=\"text-align: right;\">\n",
       "      <th></th>\n",
       "      <th></th>\n",
       "      <th>year</th>\n",
       "      <th>Small Bags</th>\n",
       "      <th>Large Bags</th>\n",
       "      <th>XLarge Bags</th>\n",
       "      <th>Total Bags</th>\n",
       "    </tr>\n",
       "    <tr>\n",
       "      <th>region</th>\n",
       "      <th>type</th>\n",
       "      <th></th>\n",
       "      <th></th>\n",
       "      <th></th>\n",
       "      <th></th>\n",
       "      <th></th>\n",
       "    </tr>\n",
       "  </thead>\n",
       "  <tbody>\n",
       "    <tr>\n",
       "      <th rowspan=\"2\" valign=\"top\">California</th>\n",
       "      <th>conventional</th>\n",
       "      <td>0.00064</td>\n",
       "      <td>0.583109</td>\n",
       "      <td>1.105039</td>\n",
       "      <td>0.840635</td>\n",
       "      <td>0.591069</td>\n",
       "    </tr>\n",
       "    <tr>\n",
       "      <th>organic</th>\n",
       "      <td>0.00064</td>\n",
       "      <td>0.690845</td>\n",
       "      <td>1.073864</td>\n",
       "      <td>NaN</td>\n",
       "      <td>0.706007</td>\n",
       "    </tr>\n",
       "    <tr>\n",
       "      <th rowspan=\"2\" valign=\"top\">SouthCentral</th>\n",
       "      <th>conventional</th>\n",
       "      <td>0.00064</td>\n",
       "      <td>0.458171</td>\n",
       "      <td>0.666116</td>\n",
       "      <td>0.731524</td>\n",
       "      <td>0.494368</td>\n",
       "    </tr>\n",
       "    <tr>\n",
       "      <th>organic</th>\n",
       "      <td>0.00064</td>\n",
       "      <td>0.675496</td>\n",
       "      <td>0.782929</td>\n",
       "      <td>NaN</td>\n",
       "      <td>0.673768</td>\n",
       "    </tr>\n",
       "    <tr>\n",
       "      <th rowspan=\"2\" valign=\"top\">West</th>\n",
       "      <th>conventional</th>\n",
       "      <td>0.00064</td>\n",
       "      <td>0.628604</td>\n",
       "      <td>0.572329</td>\n",
       "      <td>0.536888</td>\n",
       "      <td>0.593202</td>\n",
       "    </tr>\n",
       "    <tr>\n",
       "      <th>organic</th>\n",
       "      <td>0.00064</td>\n",
       "      <td>0.770922</td>\n",
       "      <td>0.530973</td>\n",
       "      <td>1.154749</td>\n",
       "      <td>0.596141</td>\n",
       "    </tr>\n",
       "  </tbody>\n",
       "</table>\n",
       "</div>"
      ],
      "text/plain": [
       "                              year  Small Bags  Large Bags  XLarge Bags  \\\n",
       "region       type                                                         \n",
       "California   conventional  0.00064    0.583109    1.105039     0.840635   \n",
       "             organic       0.00064    0.690845    1.073864          NaN   \n",
       "SouthCentral conventional  0.00064    0.458171    0.666116     0.731524   \n",
       "             organic       0.00064    0.675496    0.782929          NaN   \n",
       "West         conventional  0.00064    0.628604    0.572329     0.536888   \n",
       "             organic       0.00064    0.770922    0.530973     1.154749   \n",
       "\n",
       "                           Total Bags  \n",
       "region       type                      \n",
       "California   conventional    0.591069  \n",
       "             organic         0.706007  \n",
       "SouthCentral conventional    0.494368  \n",
       "             organic         0.673768  \n",
       "West         conventional    0.593202  \n",
       "             organic         0.596141  "
      ]
     },
     "execution_count": 42,
     "metadata": {},
     "output_type": "execute_result"
    }
   ],
   "source": [
    "# Get the top 3 regions (excluding TotalUS) with the highest sum of Total Volume\n",
    "df = data[data[\"region\"] != \"TotalUS\"]\n",
    "df = df.groupby([\"region\"])[\"Total Volume\"].sum().reset_index()\n",
    "df = df.sort_values(\"Total Volume\", ascending=False)\n",
    "df = df.head(3)\n",
    "\n",
    "# Get the sales of Small Bags, Large Bags, XLarge Bags, and Total Bags for each region and type of avocado\n",
    "filtered = data[data[\"region\"].isin(df[\"region\"])]\n",
    "filtered = filtered.groupby([\"region\", \"year\", \"type\"])[[\"Small Bags\", \"Large Bags\", \"XLarge Bags\", \"Total Bags\"]].sum().reset_index()\n",
    "\n",
    "# Calculate the coefficient of variation for each region and bag type\n",
    "cv = filtered.groupby([\"region\", \"type\"]).std() / filtered.groupby([\"region\", \"type\"]).mean()\n",
    "\n",
    "\n",
    "# Display the results\n",
    "cv\n",
    "\n"
   ]
  },
  {
   "cell_type": "markdown",
   "metadata": {},
   "source": [
    "### C. Learn more\n",
    "* https://www.statisticshowto.com/probability-and-statistics/how-to-find-a-coefficient-of-variation/"
   ]
  }
 ],
 "metadata": {
  "kernelspec": {
   "display_name": "Python 3",
   "language": "python",
   "name": "python3"
  },
  "language_info": {
   "codemirror_mode": {
    "name": "ipython",
    "version": 3
   },
   "file_extension": ".py",
   "mimetype": "text/x-python",
   "name": "python",
   "nbconvert_exporter": "python",
   "pygments_lexer": "ipython3",
   "version": "3.13.2"
  }
 },
 "nbformat": 4,
 "nbformat_minor": 4
}
